{
 "cells": [
  {
   "cell_type": "markdown",
   "id": "29d6547c",
   "metadata": {},
   "source": [
    "# Singular Value Decomposition"
   ]
  },
  {
   "cell_type": "code",
   "execution_count": 102,
   "id": "b318990d",
   "metadata": {},
   "outputs": [],
   "source": [
    "import numpy as np\n",
    "import pandas as pd"
   ]
  },
  {
   "cell_type": "markdown",
   "id": "acd66686",
   "metadata": {},
   "source": [
    "### Loading Scores"
   ]
  },
  {
   "cell_type": "code",
   "execution_count": 103,
   "id": "22e31042",
   "metadata": {},
   "outputs": [],
   "source": [
    "marks = pd.read_csv(\"marks.csv\")"
   ]
  },
  {
   "cell_type": "code",
   "execution_count": 104,
   "id": "d84d2e58",
   "metadata": {},
   "outputs": [
    {
     "data": {
      "text/html": [
       "<div>\n",
       "<style scoped>\n",
       "    .dataframe tbody tr th:only-of-type {\n",
       "        vertical-align: middle;\n",
       "    }\n",
       "\n",
       "    .dataframe tbody tr th {\n",
       "        vertical-align: top;\n",
       "    }\n",
       "\n",
       "    .dataframe thead th {\n",
       "        text-align: right;\n",
       "    }\n",
       "</style>\n",
       "<table border=\"1\" class=\"dataframe\">\n",
       "  <thead>\n",
       "    <tr style=\"text-align: right;\">\n",
       "      <th></th>\n",
       "      <th>x1</th>\n",
       "      <th>x2</th>\n",
       "    </tr>\n",
       "  </thead>\n",
       "  <tbody>\n",
       "    <tr>\n",
       "      <th>0</th>\n",
       "      <td>83.7</td>\n",
       "      <td>77.3</td>\n",
       "    </tr>\n",
       "    <tr>\n",
       "      <th>1</th>\n",
       "      <td>75.1</td>\n",
       "      <td>66.5</td>\n",
       "    </tr>\n",
       "    <tr>\n",
       "      <th>2</th>\n",
       "      <td>56.9</td>\n",
       "      <td>51.3</td>\n",
       "    </tr>\n",
       "    <tr>\n",
       "      <th>3</th>\n",
       "      <td>82.9</td>\n",
       "      <td>81.0</td>\n",
       "    </tr>\n",
       "    <tr>\n",
       "      <th>4</th>\n",
       "      <td>88.5</td>\n",
       "      <td>78.0</td>\n",
       "    </tr>\n",
       "    <tr>\n",
       "      <th>5</th>\n",
       "      <td>73.6</td>\n",
       "      <td>68.3</td>\n",
       "    </tr>\n",
       "    <tr>\n",
       "      <th>6</th>\n",
       "      <td>60.2</td>\n",
       "      <td>52.0</td>\n",
       "    </tr>\n",
       "    <tr>\n",
       "      <th>7</th>\n",
       "      <td>52.0</td>\n",
       "      <td>57.7</td>\n",
       "    </tr>\n",
       "    <tr>\n",
       "      <th>8</th>\n",
       "      <td>77.5</td>\n",
       "      <td>70.3</td>\n",
       "    </tr>\n",
       "    <tr>\n",
       "      <th>9</th>\n",
       "      <td>58.0</td>\n",
       "      <td>58.9</td>\n",
       "    </tr>\n",
       "    <tr>\n",
       "      <th>10</th>\n",
       "      <td>71.2</td>\n",
       "      <td>60.4</td>\n",
       "    </tr>\n",
       "    <tr>\n",
       "      <th>11</th>\n",
       "      <td>83.0</td>\n",
       "      <td>73.1</td>\n",
       "    </tr>\n",
       "    <tr>\n",
       "      <th>12</th>\n",
       "      <td>58.0</td>\n",
       "      <td>59.5</td>\n",
       "    </tr>\n",
       "    <tr>\n",
       "      <th>13</th>\n",
       "      <td>73.4</td>\n",
       "      <td>61.3</td>\n",
       "    </tr>\n",
       "    <tr>\n",
       "      <th>14</th>\n",
       "      <td>68.2</td>\n",
       "      <td>66.5</td>\n",
       "    </tr>\n",
       "    <tr>\n",
       "      <th>15</th>\n",
       "      <td>55.7</td>\n",
       "      <td>47.1</td>\n",
       "    </tr>\n",
       "    <tr>\n",
       "      <th>16</th>\n",
       "      <td>45.3</td>\n",
       "      <td>43.6</td>\n",
       "    </tr>\n",
       "    <tr>\n",
       "      <th>17</th>\n",
       "      <td>75.3</td>\n",
       "      <td>63.2</td>\n",
       "    </tr>\n",
       "    <tr>\n",
       "      <th>18</th>\n",
       "      <td>62.1</td>\n",
       "      <td>61.0</td>\n",
       "    </tr>\n",
       "    <tr>\n",
       "      <th>19</th>\n",
       "      <td>43.2</td>\n",
       "      <td>41.7</td>\n",
       "    </tr>\n",
       "  </tbody>\n",
       "</table>\n",
       "</div>"
      ],
      "text/plain": [
       "      x1    x2\n",
       "0   83.7  77.3\n",
       "1   75.1  66.5\n",
       "2   56.9  51.3\n",
       "3   82.9  81.0\n",
       "4   88.5  78.0\n",
       "5   73.6  68.3\n",
       "6   60.2  52.0\n",
       "7   52.0  57.7\n",
       "8   77.5  70.3\n",
       "9   58.0  58.9\n",
       "10  71.2  60.4\n",
       "11  83.0  73.1\n",
       "12  58.0  59.5\n",
       "13  73.4  61.3\n",
       "14  68.2  66.5\n",
       "15  55.7  47.1\n",
       "16  45.3  43.6\n",
       "17  75.3  63.2\n",
       "18  62.1  61.0\n",
       "19  43.2  41.7"
      ]
     },
     "execution_count": 104,
     "metadata": {},
     "output_type": "execute_result"
    }
   ],
   "source": [
    "marks"
   ]
  },
  {
   "cell_type": "markdown",
   "id": "49914b6c",
   "metadata": {},
   "source": [
    "### Centering Data"
   ]
  },
  {
   "cell_type": "code",
   "execution_count": 105,
   "id": "d3ef0b4a",
   "metadata": {},
   "outputs": [],
   "source": [
    "avg = marks.mean(axis = 0)"
   ]
  },
  {
   "cell_type": "code",
   "execution_count": 144,
   "id": "071881c6",
   "metadata": {},
   "outputs": [
    {
     "data": {
      "text/plain": [
       "array([67.19 , 61.935])"
      ]
     },
     "execution_count": 144,
     "metadata": {},
     "output_type": "execute_result"
    }
   ],
   "source": [
    "avg"
   ]
  },
  {
   "cell_type": "code",
   "execution_count": 106,
   "id": "c54ab31b",
   "metadata": {},
   "outputs": [],
   "source": [
    "avg = avg.to_numpy()"
   ]
  },
  {
   "cell_type": "code",
   "execution_count": 107,
   "id": "9baa6df6",
   "metadata": {},
   "outputs": [],
   "source": [
    "centered_marks = marks - marks.mean(axis = 0)"
   ]
  },
  {
   "cell_type": "code",
   "execution_count": 108,
   "id": "76ffd864",
   "metadata": {},
   "outputs": [
    {
     "data": {
      "text/html": [
       "<div>\n",
       "<style scoped>\n",
       "    .dataframe tbody tr th:only-of-type {\n",
       "        vertical-align: middle;\n",
       "    }\n",
       "\n",
       "    .dataframe tbody tr th {\n",
       "        vertical-align: top;\n",
       "    }\n",
       "\n",
       "    .dataframe thead th {\n",
       "        text-align: right;\n",
       "    }\n",
       "</style>\n",
       "<table border=\"1\" class=\"dataframe\">\n",
       "  <thead>\n",
       "    <tr style=\"text-align: right;\">\n",
       "      <th></th>\n",
       "      <th>x1</th>\n",
       "      <th>x2</th>\n",
       "    </tr>\n",
       "  </thead>\n",
       "  <tbody>\n",
       "    <tr>\n",
       "      <th>0</th>\n",
       "      <td>16.51</td>\n",
       "      <td>15.365</td>\n",
       "    </tr>\n",
       "    <tr>\n",
       "      <th>1</th>\n",
       "      <td>7.91</td>\n",
       "      <td>4.565</td>\n",
       "    </tr>\n",
       "    <tr>\n",
       "      <th>2</th>\n",
       "      <td>-10.29</td>\n",
       "      <td>-10.635</td>\n",
       "    </tr>\n",
       "    <tr>\n",
       "      <th>3</th>\n",
       "      <td>15.71</td>\n",
       "      <td>19.065</td>\n",
       "    </tr>\n",
       "    <tr>\n",
       "      <th>4</th>\n",
       "      <td>21.31</td>\n",
       "      <td>16.065</td>\n",
       "    </tr>\n",
       "    <tr>\n",
       "      <th>5</th>\n",
       "      <td>6.41</td>\n",
       "      <td>6.365</td>\n",
       "    </tr>\n",
       "    <tr>\n",
       "      <th>6</th>\n",
       "      <td>-6.99</td>\n",
       "      <td>-9.935</td>\n",
       "    </tr>\n",
       "    <tr>\n",
       "      <th>7</th>\n",
       "      <td>-15.19</td>\n",
       "      <td>-4.235</td>\n",
       "    </tr>\n",
       "    <tr>\n",
       "      <th>8</th>\n",
       "      <td>10.31</td>\n",
       "      <td>8.365</td>\n",
       "    </tr>\n",
       "    <tr>\n",
       "      <th>9</th>\n",
       "      <td>-9.19</td>\n",
       "      <td>-3.035</td>\n",
       "    </tr>\n",
       "    <tr>\n",
       "      <th>10</th>\n",
       "      <td>4.01</td>\n",
       "      <td>-1.535</td>\n",
       "    </tr>\n",
       "    <tr>\n",
       "      <th>11</th>\n",
       "      <td>15.81</td>\n",
       "      <td>11.165</td>\n",
       "    </tr>\n",
       "    <tr>\n",
       "      <th>12</th>\n",
       "      <td>-9.19</td>\n",
       "      <td>-2.435</td>\n",
       "    </tr>\n",
       "    <tr>\n",
       "      <th>13</th>\n",
       "      <td>6.21</td>\n",
       "      <td>-0.635</td>\n",
       "    </tr>\n",
       "    <tr>\n",
       "      <th>14</th>\n",
       "      <td>1.01</td>\n",
       "      <td>4.565</td>\n",
       "    </tr>\n",
       "    <tr>\n",
       "      <th>15</th>\n",
       "      <td>-11.49</td>\n",
       "      <td>-14.835</td>\n",
       "    </tr>\n",
       "    <tr>\n",
       "      <th>16</th>\n",
       "      <td>-21.89</td>\n",
       "      <td>-18.335</td>\n",
       "    </tr>\n",
       "    <tr>\n",
       "      <th>17</th>\n",
       "      <td>8.11</td>\n",
       "      <td>1.265</td>\n",
       "    </tr>\n",
       "    <tr>\n",
       "      <th>18</th>\n",
       "      <td>-5.09</td>\n",
       "      <td>-0.935</td>\n",
       "    </tr>\n",
       "    <tr>\n",
       "      <th>19</th>\n",
       "      <td>-23.99</td>\n",
       "      <td>-20.235</td>\n",
       "    </tr>\n",
       "  </tbody>\n",
       "</table>\n",
       "</div>"
      ],
      "text/plain": [
       "       x1      x2\n",
       "0   16.51  15.365\n",
       "1    7.91   4.565\n",
       "2  -10.29 -10.635\n",
       "3   15.71  19.065\n",
       "4   21.31  16.065\n",
       "5    6.41   6.365\n",
       "6   -6.99  -9.935\n",
       "7  -15.19  -4.235\n",
       "8   10.31   8.365\n",
       "9   -9.19  -3.035\n",
       "10   4.01  -1.535\n",
       "11  15.81  11.165\n",
       "12  -9.19  -2.435\n",
       "13   6.21  -0.635\n",
       "14   1.01   4.565\n",
       "15 -11.49 -14.835\n",
       "16 -21.89 -18.335\n",
       "17   8.11   1.265\n",
       "18  -5.09  -0.935\n",
       "19 -23.99 -20.235"
      ]
     },
     "execution_count": 108,
     "metadata": {},
     "output_type": "execute_result"
    }
   ],
   "source": [
    "centered_marks"
   ]
  },
  {
   "cell_type": "code",
   "execution_count": 109,
   "id": "e02cae2f",
   "metadata": {},
   "outputs": [],
   "source": [
    "X = centered_marks.to_numpy()"
   ]
  },
  {
   "cell_type": "code",
   "execution_count": 110,
   "id": "905c1372",
   "metadata": {},
   "outputs": [
    {
     "data": {
      "text/plain": [
       "array([[ 16.51 ,  15.365],\n",
       "       [  7.91 ,   4.565],\n",
       "       [-10.29 , -10.635],\n",
       "       [ 15.71 ,  19.065],\n",
       "       [ 21.31 ,  16.065],\n",
       "       [  6.41 ,   6.365],\n",
       "       [ -6.99 ,  -9.935],\n",
       "       [-15.19 ,  -4.235],\n",
       "       [ 10.31 ,   8.365],\n",
       "       [ -9.19 ,  -3.035],\n",
       "       [  4.01 ,  -1.535],\n",
       "       [ 15.81 ,  11.165],\n",
       "       [ -9.19 ,  -2.435],\n",
       "       [  6.21 ,  -0.635],\n",
       "       [  1.01 ,   4.565],\n",
       "       [-11.49 , -14.835],\n",
       "       [-21.89 , -18.335],\n",
       "       [  8.11 ,   1.265],\n",
       "       [ -5.09 ,  -0.935],\n",
       "       [-23.99 , -20.235]])"
      ]
     },
     "execution_count": 110,
     "metadata": {},
     "output_type": "execute_result"
    }
   ],
   "source": [
    "X"
   ]
  },
  {
   "cell_type": "markdown",
   "id": "61cbc77b",
   "metadata": {},
   "source": [
    "### Decomposition of the matrix "
   ]
  },
  {
   "cell_type": "code",
   "execution_count": 111,
   "id": "9cfdadae",
   "metadata": {},
   "outputs": [],
   "source": [
    "# X is your 20x2 matrix (omitted here for brevity)\n",
    "U, s, VT = np.linalg.svd(X, full_matrices=False)  # thin SVD\n",
    "S = np.diag(s)"
   ]
  },
  {
   "cell_type": "code",
   "execution_count": 112,
   "id": "7bd35c36",
   "metadata": {},
   "outputs": [
    {
     "data": {
      "text/plain": [
       "array([[-0.76940665, -0.63875927],\n",
       "       [-0.63875927,  0.76940665]])"
      ]
     },
     "execution_count": 112,
     "metadata": {},
     "output_type": "execute_result"
    }
   ],
   "source": [
    "VT"
   ]
  },
  {
   "cell_type": "code",
   "execution_count": 113,
   "id": "fa163e4a",
   "metadata": {},
   "outputs": [
    {
     "data": {
      "text/plain": [
       "array([[-0.30427308,  0.09125026],\n",
       "       [-0.12164122, -0.11014559],\n",
       "       [ 0.1987783 , -0.11512011],\n",
       "       [-0.32789184,  0.33137329],\n",
       "       [-0.3602198 , -0.08949283],\n",
       "       [-0.12158253,  0.05741153],\n",
       "       [ 0.15842682, -0.22734501],\n",
       "       [ 0.19448169,  0.46084437],\n",
       "       [-0.17939294, -0.01069254],\n",
       "       [ 0.12174309,  0.25279753],\n",
       "       [-0.02844203, -0.26763016],\n",
       "       [-0.26074339, -0.10786539],\n",
       "       [ 0.11656424,  0.2858105 ],\n",
       "       [-0.0590833 , -0.31860406],\n",
       "       [-0.04990317,  0.20503811],\n",
       "       [ 0.24750641, -0.29139636],\n",
       "       [ 0.38584325, -0.00891254],\n",
       "       [-0.09523693, -0.30085269],\n",
       "       [ 0.06099017,  0.18105986],\n",
       "       [ 0.42407625, -0.01752815]])"
      ]
     },
     "execution_count": 113,
     "metadata": {},
     "output_type": "execute_result"
    }
   ],
   "source": [
    "U"
   ]
  },
  {
   "cell_type": "code",
   "execution_count": 114,
   "id": "ede63c1d",
   "metadata": {},
   "outputs": [
    {
     "data": {
      "text/plain": [
       "array([74.00404867, 13.98371482])"
      ]
     },
     "execution_count": 114,
     "metadata": {},
     "output_type": "execute_result"
    }
   ],
   "source": [
    "s"
   ]
  },
  {
   "cell_type": "code",
   "execution_count": 115,
   "id": "11d04e9c",
   "metadata": {},
   "outputs": [
    {
     "data": {
      "text/plain": [
       "array([[-22.51744   ,   1.2760176 ],\n",
       "       [ -9.00194268,  -1.54024448],\n",
       "       [ 14.71039928,  -1.60980681],\n",
       "       [-24.26532398,   4.63382962],\n",
       "       [-26.65772341,  -1.25144225],\n",
       "       [ -8.99759939,   0.80282639],\n",
       "       [ 11.72422585,  -3.17912776],\n",
       "       [ 14.39243253,   6.44431618],\n",
       "       [-13.27580387,  -0.14952147],\n",
       "       [  9.0094815 ,   3.53504853],\n",
       "       [ -2.10482518,  -3.74246389],\n",
       "       [-19.2960664 ,  -1.50835884],\n",
       "       [  8.62622594,   3.99669252],\n",
       "       [ -4.37240316,  -4.4552683 ],\n",
       "       [ -3.69303679,   2.86719449],\n",
       "       [ 18.3164762 ,  -4.07480362],\n",
       "       [ 28.55396281,  -0.12463047],\n",
       "       [ -7.04791841,  -4.20703828],\n",
       "       [  4.51351977,   2.53188948],\n",
       "       [ 31.38335939,  -0.24510863]])"
      ]
     },
     "execution_count": 115,
     "metadata": {},
     "output_type": "execute_result"
    }
   ],
   "source": [
    "U @ np.diag(s)"
   ]
  },
  {
   "cell_type": "markdown",
   "id": "6456dace",
   "metadata": {},
   "source": [
    "### Reconstructing the original matrix"
   ]
  },
  {
   "cell_type": "code",
   "execution_count": 120,
   "id": "55970b9c",
   "metadata": {},
   "outputs": [],
   "source": [
    "reconstruct = U @ np.diag(s) @ VT"
   ]
  },
  {
   "cell_type": "code",
   "execution_count": 121,
   "id": "d02930c3",
   "metadata": {},
   "outputs": [],
   "source": [
    "reconstruct_marks = reconstruct + avg"
   ]
  },
  {
   "cell_type": "code",
   "execution_count": 124,
   "id": "b97622a2",
   "metadata": {},
   "outputs": [
    {
     "data": {
      "text/html": [
       "<div>\n",
       "<style scoped>\n",
       "    .dataframe tbody tr th:only-of-type {\n",
       "        vertical-align: middle;\n",
       "    }\n",
       "\n",
       "    .dataframe tbody tr th {\n",
       "        vertical-align: top;\n",
       "    }\n",
       "\n",
       "    .dataframe thead th {\n",
       "        text-align: right;\n",
       "    }\n",
       "</style>\n",
       "<table border=\"1\" class=\"dataframe\">\n",
       "  <thead>\n",
       "    <tr style=\"text-align: right;\">\n",
       "      <th></th>\n",
       "      <th>x1</th>\n",
       "      <th>x2</th>\n",
       "    </tr>\n",
       "  </thead>\n",
       "  <tbody>\n",
       "    <tr>\n",
       "      <th>0</th>\n",
       "      <td>-0.0</td>\n",
       "      <td>0.0</td>\n",
       "    </tr>\n",
       "    <tr>\n",
       "      <th>1</th>\n",
       "      <td>0.0</td>\n",
       "      <td>0.0</td>\n",
       "    </tr>\n",
       "    <tr>\n",
       "      <th>2</th>\n",
       "      <td>0.0</td>\n",
       "      <td>0.0</td>\n",
       "    </tr>\n",
       "    <tr>\n",
       "      <th>3</th>\n",
       "      <td>0.0</td>\n",
       "      <td>0.0</td>\n",
       "    </tr>\n",
       "    <tr>\n",
       "      <th>4</th>\n",
       "      <td>0.0</td>\n",
       "      <td>0.0</td>\n",
       "    </tr>\n",
       "    <tr>\n",
       "      <th>5</th>\n",
       "      <td>0.0</td>\n",
       "      <td>0.0</td>\n",
       "    </tr>\n",
       "    <tr>\n",
       "      <th>6</th>\n",
       "      <td>0.0</td>\n",
       "      <td>0.0</td>\n",
       "    </tr>\n",
       "    <tr>\n",
       "      <th>7</th>\n",
       "      <td>0.0</td>\n",
       "      <td>0.0</td>\n",
       "    </tr>\n",
       "    <tr>\n",
       "      <th>8</th>\n",
       "      <td>0.0</td>\n",
       "      <td>0.0</td>\n",
       "    </tr>\n",
       "    <tr>\n",
       "      <th>9</th>\n",
       "      <td>0.0</td>\n",
       "      <td>0.0</td>\n",
       "    </tr>\n",
       "    <tr>\n",
       "      <th>10</th>\n",
       "      <td>0.0</td>\n",
       "      <td>0.0</td>\n",
       "    </tr>\n",
       "    <tr>\n",
       "      <th>11</th>\n",
       "      <td>0.0</td>\n",
       "      <td>0.0</td>\n",
       "    </tr>\n",
       "    <tr>\n",
       "      <th>12</th>\n",
       "      <td>0.0</td>\n",
       "      <td>0.0</td>\n",
       "    </tr>\n",
       "    <tr>\n",
       "      <th>13</th>\n",
       "      <td>0.0</td>\n",
       "      <td>0.0</td>\n",
       "    </tr>\n",
       "    <tr>\n",
       "      <th>14</th>\n",
       "      <td>0.0</td>\n",
       "      <td>0.0</td>\n",
       "    </tr>\n",
       "    <tr>\n",
       "      <th>15</th>\n",
       "      <td>0.0</td>\n",
       "      <td>0.0</td>\n",
       "    </tr>\n",
       "    <tr>\n",
       "      <th>16</th>\n",
       "      <td>0.0</td>\n",
       "      <td>0.0</td>\n",
       "    </tr>\n",
       "    <tr>\n",
       "      <th>17</th>\n",
       "      <td>0.0</td>\n",
       "      <td>0.0</td>\n",
       "    </tr>\n",
       "    <tr>\n",
       "      <th>18</th>\n",
       "      <td>0.0</td>\n",
       "      <td>0.0</td>\n",
       "    </tr>\n",
       "    <tr>\n",
       "      <th>19</th>\n",
       "      <td>0.0</td>\n",
       "      <td>0.0</td>\n",
       "    </tr>\n",
       "  </tbody>\n",
       "</table>\n",
       "</div>"
      ],
      "text/plain": [
       "     x1   x2\n",
       "0  -0.0  0.0\n",
       "1   0.0  0.0\n",
       "2   0.0  0.0\n",
       "3   0.0  0.0\n",
       "4   0.0  0.0\n",
       "5   0.0  0.0\n",
       "6   0.0  0.0\n",
       "7   0.0  0.0\n",
       "8   0.0  0.0\n",
       "9   0.0  0.0\n",
       "10  0.0  0.0\n",
       "11  0.0  0.0\n",
       "12  0.0  0.0\n",
       "13  0.0  0.0\n",
       "14  0.0  0.0\n",
       "15  0.0  0.0\n",
       "16  0.0  0.0\n",
       "17  0.0  0.0\n",
       "18  0.0  0.0\n",
       "19  0.0  0.0"
      ]
     },
     "execution_count": 124,
     "metadata": {},
     "output_type": "execute_result"
    }
   ],
   "source": [
    "np.round(reconstruct_marks - marks, 2)"
   ]
  },
  {
   "cell_type": "markdown",
   "id": "e54ca575",
   "metadata": {},
   "source": [
    "### What happens if we take only one component"
   ]
  },
  {
   "cell_type": "code",
   "execution_count": 125,
   "id": "d3b243be",
   "metadata": {},
   "outputs": [
    {
     "data": {
      "text/plain": [
       "array([74.00404867, 13.98371482])"
      ]
     },
     "execution_count": 125,
     "metadata": {},
     "output_type": "execute_result"
    }
   ],
   "source": [
    "s"
   ]
  },
  {
   "cell_type": "code",
   "execution_count": 126,
   "id": "70549b7c",
   "metadata": {},
   "outputs": [],
   "source": [
    "s1 = [74.00404867, 0]"
   ]
  },
  {
   "cell_type": "code",
   "execution_count": 127,
   "id": "50d753ed",
   "metadata": {},
   "outputs": [],
   "source": [
    "reconstruct1 = U @ np.diag(s1) @ VT"
   ]
  },
  {
   "cell_type": "code",
   "execution_count": 142,
   "id": "98dce14b",
   "metadata": {},
   "outputs": [
    {
     "data": {
      "text/plain": [
       "array([[ 17.32506807,  14.38322357],\n",
       "       [  6.92615456,   5.75007435],\n",
       "       [-11.31827903,  -9.39640393],\n",
       "       [ 18.66990163,  15.49970068],\n",
       "       [ 20.51062966,  17.02786799],\n",
       "       [  6.9228128 ,   5.74730003],\n",
       "       [ -9.02069733,  -7.48895796],\n",
       "       [-11.07363329,  -9.19329972],\n",
       "       [ 10.21449178,   8.48004281],\n",
       "       [ -6.93195498,  -5.75488984],\n",
       "       [  1.61946649,   1.3444766 ],\n",
       "       [ 14.8465218 ,  12.32554132],\n",
       "       [ -6.6370756 ,  -5.5100818 ],\n",
       "       [  3.36415606,   2.79291306],\n",
       "       [  2.84144707,   2.35896149],\n",
       "       [-14.09281859, -11.699819  ],\n",
       "       [-21.96960886, -18.23910849],\n",
       "       [  5.42271529,   4.50192323],\n",
       "       [ -3.47273212,  -2.8830526 ],\n",
       "       [-24.14656541, -20.04641179]])"
      ]
     },
     "execution_count": 142,
     "metadata": {},
     "output_type": "execute_result"
    }
   ],
   "source": [
    "reconstruct1"
   ]
  },
  {
   "cell_type": "code",
   "execution_count": 128,
   "id": "391b7970",
   "metadata": {},
   "outputs": [],
   "source": [
    "reconstruct_marks1 = reconstruct1 + avg"
   ]
  },
  {
   "cell_type": "code",
   "execution_count": 129,
   "id": "f1c4bde0",
   "metadata": {},
   "outputs": [
    {
     "data": {
      "text/html": [
       "<div>\n",
       "<style scoped>\n",
       "    .dataframe tbody tr th:only-of-type {\n",
       "        vertical-align: middle;\n",
       "    }\n",
       "\n",
       "    .dataframe tbody tr th {\n",
       "        vertical-align: top;\n",
       "    }\n",
       "\n",
       "    .dataframe thead th {\n",
       "        text-align: right;\n",
       "    }\n",
       "</style>\n",
       "<table border=\"1\" class=\"dataframe\">\n",
       "  <thead>\n",
       "    <tr style=\"text-align: right;\">\n",
       "      <th></th>\n",
       "      <th>x1</th>\n",
       "      <th>x2</th>\n",
       "    </tr>\n",
       "  </thead>\n",
       "  <tbody>\n",
       "    <tr>\n",
       "      <th>0</th>\n",
       "      <td>0.82</td>\n",
       "      <td>-0.98</td>\n",
       "    </tr>\n",
       "    <tr>\n",
       "      <th>1</th>\n",
       "      <td>-0.98</td>\n",
       "      <td>1.19</td>\n",
       "    </tr>\n",
       "    <tr>\n",
       "      <th>2</th>\n",
       "      <td>-1.03</td>\n",
       "      <td>1.24</td>\n",
       "    </tr>\n",
       "    <tr>\n",
       "      <th>3</th>\n",
       "      <td>2.96</td>\n",
       "      <td>-3.57</td>\n",
       "    </tr>\n",
       "    <tr>\n",
       "      <th>4</th>\n",
       "      <td>-0.80</td>\n",
       "      <td>0.96</td>\n",
       "    </tr>\n",
       "    <tr>\n",
       "      <th>5</th>\n",
       "      <td>0.51</td>\n",
       "      <td>-0.62</td>\n",
       "    </tr>\n",
       "    <tr>\n",
       "      <th>6</th>\n",
       "      <td>-2.03</td>\n",
       "      <td>2.45</td>\n",
       "    </tr>\n",
       "    <tr>\n",
       "      <th>7</th>\n",
       "      <td>4.12</td>\n",
       "      <td>-4.96</td>\n",
       "    </tr>\n",
       "    <tr>\n",
       "      <th>8</th>\n",
       "      <td>-0.10</td>\n",
       "      <td>0.12</td>\n",
       "    </tr>\n",
       "    <tr>\n",
       "      <th>9</th>\n",
       "      <td>2.26</td>\n",
       "      <td>-2.72</td>\n",
       "    </tr>\n",
       "    <tr>\n",
       "      <th>10</th>\n",
       "      <td>-2.39</td>\n",
       "      <td>2.88</td>\n",
       "    </tr>\n",
       "    <tr>\n",
       "      <th>11</th>\n",
       "      <td>-0.96</td>\n",
       "      <td>1.16</td>\n",
       "    </tr>\n",
       "    <tr>\n",
       "      <th>12</th>\n",
       "      <td>2.55</td>\n",
       "      <td>-3.08</td>\n",
       "    </tr>\n",
       "    <tr>\n",
       "      <th>13</th>\n",
       "      <td>-2.85</td>\n",
       "      <td>3.43</td>\n",
       "    </tr>\n",
       "    <tr>\n",
       "      <th>14</th>\n",
       "      <td>1.83</td>\n",
       "      <td>-2.21</td>\n",
       "    </tr>\n",
       "    <tr>\n",
       "      <th>15</th>\n",
       "      <td>-2.60</td>\n",
       "      <td>3.14</td>\n",
       "    </tr>\n",
       "    <tr>\n",
       "      <th>16</th>\n",
       "      <td>-0.08</td>\n",
       "      <td>0.10</td>\n",
       "    </tr>\n",
       "    <tr>\n",
       "      <th>17</th>\n",
       "      <td>-2.69</td>\n",
       "      <td>3.24</td>\n",
       "    </tr>\n",
       "    <tr>\n",
       "      <th>18</th>\n",
       "      <td>1.62</td>\n",
       "      <td>-1.95</td>\n",
       "    </tr>\n",
       "    <tr>\n",
       "      <th>19</th>\n",
       "      <td>-0.16</td>\n",
       "      <td>0.19</td>\n",
       "    </tr>\n",
       "  </tbody>\n",
       "</table>\n",
       "</div>"
      ],
      "text/plain": [
       "      x1    x2\n",
       "0   0.82 -0.98\n",
       "1  -0.98  1.19\n",
       "2  -1.03  1.24\n",
       "3   2.96 -3.57\n",
       "4  -0.80  0.96\n",
       "5   0.51 -0.62\n",
       "6  -2.03  2.45\n",
       "7   4.12 -4.96\n",
       "8  -0.10  0.12\n",
       "9   2.26 -2.72\n",
       "10 -2.39  2.88\n",
       "11 -0.96  1.16\n",
       "12  2.55 -3.08\n",
       "13 -2.85  3.43\n",
       "14  1.83 -2.21\n",
       "15 -2.60  3.14\n",
       "16 -0.08  0.10\n",
       "17 -2.69  3.24\n",
       "18  1.62 -1.95\n",
       "19 -0.16  0.19"
      ]
     },
     "execution_count": 129,
     "metadata": {},
     "output_type": "execute_result"
    }
   ],
   "source": [
    "np.round(reconstruct_marks1 - marks, 2)"
   ]
  },
  {
   "cell_type": "markdown",
   "id": "407f4cbc",
   "metadata": {},
   "source": [
    "### How much information loss?"
   ]
  },
  {
   "cell_type": "code",
   "execution_count": 130,
   "id": "f8540d86",
   "metadata": {},
   "outputs": [],
   "source": [
    "singular_values = [74.00404867, 13.98371482]"
   ]
  },
  {
   "cell_type": "code",
   "execution_count": 132,
   "id": "ae2a2016",
   "metadata": {},
   "outputs": [],
   "source": [
    "singular_values_sq = np.power(singular_values, 2)"
   ]
  },
  {
   "cell_type": "code",
   "execution_count": 133,
   "id": "911f94f3",
   "metadata": {},
   "outputs": [
    {
     "data": {
      "text/plain": [
       "array([0.96552551, 0.03447449])"
      ]
     },
     "execution_count": 133,
     "metadata": {},
     "output_type": "execute_result"
    }
   ],
   "source": [
    "singular_values_sq / np.sum(singular_values_sq)"
   ]
  },
  {
   "cell_type": "markdown",
   "id": "27ef6392",
   "metadata": {},
   "source": [
    "# Using sklearn for doing PCA"
   ]
  },
  {
   "cell_type": "code",
   "execution_count": 135,
   "id": "a33d9730",
   "metadata": {},
   "outputs": [],
   "source": [
    "from sklearn.decomposition import PCA"
   ]
  },
  {
   "cell_type": "code",
   "execution_count": 155,
   "id": "337b2b59",
   "metadata": {},
   "outputs": [],
   "source": [
    "pca = PCA()"
   ]
  },
  {
   "cell_type": "code",
   "execution_count": 156,
   "id": "120d7c38",
   "metadata": {},
   "outputs": [
    {
     "data": {
      "text/html": [
       "<style>#sk-container-id-3 {color: black;}#sk-container-id-3 pre{padding: 0;}#sk-container-id-3 div.sk-toggleable {background-color: white;}#sk-container-id-3 label.sk-toggleable__label {cursor: pointer;display: block;width: 100%;margin-bottom: 0;padding: 0.3em;box-sizing: border-box;text-align: center;}#sk-container-id-3 label.sk-toggleable__label-arrow:before {content: \"▸\";float: left;margin-right: 0.25em;color: #696969;}#sk-container-id-3 label.sk-toggleable__label-arrow:hover:before {color: black;}#sk-container-id-3 div.sk-estimator:hover label.sk-toggleable__label-arrow:before {color: black;}#sk-container-id-3 div.sk-toggleable__content {max-height: 0;max-width: 0;overflow: hidden;text-align: left;background-color: #f0f8ff;}#sk-container-id-3 div.sk-toggleable__content pre {margin: 0.2em;color: black;border-radius: 0.25em;background-color: #f0f8ff;}#sk-container-id-3 input.sk-toggleable__control:checked~div.sk-toggleable__content {max-height: 200px;max-width: 100%;overflow: auto;}#sk-container-id-3 input.sk-toggleable__control:checked~label.sk-toggleable__label-arrow:before {content: \"▾\";}#sk-container-id-3 div.sk-estimator input.sk-toggleable__control:checked~label.sk-toggleable__label {background-color: #d4ebff;}#sk-container-id-3 div.sk-label input.sk-toggleable__control:checked~label.sk-toggleable__label {background-color: #d4ebff;}#sk-container-id-3 input.sk-hidden--visually {border: 0;clip: rect(1px 1px 1px 1px);clip: rect(1px, 1px, 1px, 1px);height: 1px;margin: -1px;overflow: hidden;padding: 0;position: absolute;width: 1px;}#sk-container-id-3 div.sk-estimator {font-family: monospace;background-color: #f0f8ff;border: 1px dotted black;border-radius: 0.25em;box-sizing: border-box;margin-bottom: 0.5em;}#sk-container-id-3 div.sk-estimator:hover {background-color: #d4ebff;}#sk-container-id-3 div.sk-parallel-item::after {content: \"\";width: 100%;border-bottom: 1px solid gray;flex-grow: 1;}#sk-container-id-3 div.sk-label:hover label.sk-toggleable__label {background-color: #d4ebff;}#sk-container-id-3 div.sk-serial::before {content: \"\";position: absolute;border-left: 1px solid gray;box-sizing: border-box;top: 0;bottom: 0;left: 50%;z-index: 0;}#sk-container-id-3 div.sk-serial {display: flex;flex-direction: column;align-items: center;background-color: white;padding-right: 0.2em;padding-left: 0.2em;position: relative;}#sk-container-id-3 div.sk-item {position: relative;z-index: 1;}#sk-container-id-3 div.sk-parallel {display: flex;align-items: stretch;justify-content: center;background-color: white;position: relative;}#sk-container-id-3 div.sk-item::before, #sk-container-id-3 div.sk-parallel-item::before {content: \"\";position: absolute;border-left: 1px solid gray;box-sizing: border-box;top: 0;bottom: 0;left: 50%;z-index: -1;}#sk-container-id-3 div.sk-parallel-item {display: flex;flex-direction: column;z-index: 1;position: relative;background-color: white;}#sk-container-id-3 div.sk-parallel-item:first-child::after {align-self: flex-end;width: 50%;}#sk-container-id-3 div.sk-parallel-item:last-child::after {align-self: flex-start;width: 50%;}#sk-container-id-3 div.sk-parallel-item:only-child::after {width: 0;}#sk-container-id-3 div.sk-dashed-wrapped {border: 1px dashed gray;margin: 0 0.4em 0.5em 0.4em;box-sizing: border-box;padding-bottom: 0.4em;background-color: white;}#sk-container-id-3 div.sk-label label {font-family: monospace;font-weight: bold;display: inline-block;line-height: 1.2em;}#sk-container-id-3 div.sk-label-container {text-align: center;}#sk-container-id-3 div.sk-container {/* jupyter's `normalize.less` sets `[hidden] { display: none; }` but bootstrap.min.css set `[hidden] { display: none !important; }` so we also need the `!important` here to be able to override the default hidden behavior on the sphinx rendered scikit-learn.org. See: https://github.com/scikit-learn/scikit-learn/issues/21755 */display: inline-block !important;position: relative;}#sk-container-id-3 div.sk-text-repr-fallback {display: none;}</style><div id=\"sk-container-id-3\" class=\"sk-top-container\"><div class=\"sk-text-repr-fallback\"><pre>PCA()</pre><b>In a Jupyter environment, please rerun this cell to show the HTML representation or trust the notebook. <br />On GitHub, the HTML representation is unable to render, please try loading this page with nbviewer.org.</b></div><div class=\"sk-container\" hidden><div class=\"sk-item\"><div class=\"sk-estimator sk-toggleable\"><input class=\"sk-toggleable__control sk-hidden--visually\" id=\"sk-estimator-id-3\" type=\"checkbox\" checked><label for=\"sk-estimator-id-3\" class=\"sk-toggleable__label sk-toggleable__label-arrow\">PCA</label><div class=\"sk-toggleable__content\"><pre>PCA()</pre></div></div></div></div></div>"
      ],
      "text/plain": [
       "PCA()"
      ]
     },
     "execution_count": 156,
     "metadata": {},
     "output_type": "execute_result"
    }
   ],
   "source": [
    "pca.fit(centered_marks)"
   ]
  },
  {
   "cell_type": "code",
   "execution_count": 157,
   "id": "86b19a66",
   "metadata": {},
   "outputs": [
    {
     "data": {
      "text/plain": [
       "array([0.96552551, 0.03447449])"
      ]
     },
     "execution_count": 157,
     "metadata": {},
     "output_type": "execute_result"
    }
   ],
   "source": [
    "pca.explained_variance_ratio_"
   ]
  },
  {
   "cell_type": "code",
   "execution_count": 158,
   "id": "660c8892",
   "metadata": {},
   "outputs": [
    {
     "data": {
      "text/plain": [
       "array([[-0.76940665, -0.63875927],\n",
       "       [-0.63875927,  0.76940665]])"
      ]
     },
     "execution_count": 158,
     "metadata": {},
     "output_type": "execute_result"
    }
   ],
   "source": [
    "pca.components_"
   ]
  },
  {
   "cell_type": "code",
   "execution_count": null,
   "id": "a479d8e3",
   "metadata": {},
   "outputs": [],
   "source": [
    "pca."
   ]
  },
  {
   "cell_type": "markdown",
   "id": "07cf6cfd",
   "metadata": {},
   "source": [
    "### Projecting the data onto the principal components"
   ]
  },
  {
   "cell_type": "code",
   "execution_count": 159,
   "id": "75ca9c74",
   "metadata": {},
   "outputs": [
    {
     "data": {
      "text/plain": [
       "array([[-22.51744   ,   1.2760176 ],\n",
       "       [ -9.00194268,  -1.54024448],\n",
       "       [ 14.71039928,  -1.60980681],\n",
       "       [-24.26532398,   4.63382962],\n",
       "       [-26.65772341,  -1.25144225],\n",
       "       [ -8.99759939,   0.80282639],\n",
       "       [ 11.72422585,  -3.17912776],\n",
       "       [ 14.39243253,   6.44431618],\n",
       "       [-13.27580387,  -0.14952147],\n",
       "       [  9.0094815 ,   3.53504853],\n",
       "       [ -2.10482518,  -3.74246389],\n",
       "       [-19.2960664 ,  -1.50835884],\n",
       "       [  8.62622594,   3.99669252],\n",
       "       [ -4.37240316,  -4.4552683 ],\n",
       "       [ -3.69303679,   2.86719449],\n",
       "       [ 18.3164762 ,  -4.07480362],\n",
       "       [ 28.55396281,  -0.12463047],\n",
       "       [ -7.04791841,  -4.20703828],\n",
       "       [  4.51351977,   2.53188948],\n",
       "       [ 31.38335939,  -0.24510863]])"
      ]
     },
     "execution_count": 159,
     "metadata": {},
     "output_type": "execute_result"
    }
   ],
   "source": [
    "pca.transform(centered_marks)"
   ]
  },
  {
   "cell_type": "code",
   "execution_count": 160,
   "id": "9d4db914",
   "metadata": {},
   "outputs": [
    {
     "data": {
      "text/plain": [
       "array([[83.7, 77.3],\n",
       "       [75.1, 66.5],\n",
       "       [56.9, 51.3],\n",
       "       [82.9, 81. ],\n",
       "       [88.5, 78. ],\n",
       "       [73.6, 68.3],\n",
       "       [60.2, 52. ],\n",
       "       [52. , 57.7],\n",
       "       [77.5, 70.3],\n",
       "       [58. , 58.9],\n",
       "       [71.2, 60.4],\n",
       "       [83. , 73.1],\n",
       "       [58. , 59.5],\n",
       "       [73.4, 61.3],\n",
       "       [68.2, 66.5],\n",
       "       [55.7, 47.1],\n",
       "       [45.3, 43.6],\n",
       "       [75.3, 63.2],\n",
       "       [62.1, 61. ],\n",
       "       [43.2, 41.7]])"
      ]
     },
     "execution_count": 160,
     "metadata": {},
     "output_type": "execute_result"
    }
   ],
   "source": [
    "(pca.transform(centered_marks) @ pca.components_) + avg"
   ]
  }
 ],
 "metadata": {
  "kernelspec": {
   "display_name": "Python 3 (ipykernel)",
   "language": "python",
   "name": "python3"
  },
  "language_info": {
   "codemirror_mode": {
    "name": "ipython",
    "version": 3
   },
   "file_extension": ".py",
   "mimetype": "text/x-python",
   "name": "python",
   "nbconvert_exporter": "python",
   "pygments_lexer": "ipython3",
   "version": "3.10.9"
  }
 },
 "nbformat": 4,
 "nbformat_minor": 5
}
