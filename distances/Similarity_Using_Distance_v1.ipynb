{
  "cells": [
    {
      "cell_type": "markdown",
      "metadata": {
        "id": "SE-hA09cse-m"
      },
      "source": [
        "# Finding Similarity"
      ]
    },
    {
      "cell_type": "code",
      "execution_count": null,
      "metadata": {
        "id": "urAQRaTTse-n"
      },
      "outputs": [],
      "source": [
        "import pandas as pd\n",
        "import numpy as np\n",
        "import matplotlib.pyplot as plt\n",
        "import seaborn as sn"
      ]
    },
    {
      "cell_type": "code",
      "execution_count": null,
      "metadata": {
        "id": "HneoKd0rse-o"
      },
      "outputs": [],
      "source": [
        "import warnings\n",
        "warnings.filterwarnings('ignore')"
      ]
    },
    {
      "cell_type": "markdown",
      "source": [
        "### Loading the dataset"
      ],
      "metadata": {
        "id": "u1O_chgxB657"
      }
    },
    {
      "cell_type": "code",
      "execution_count": null,
      "metadata": {
        "id": "BqErnTPXse-o"
      },
      "outputs": [],
      "source": [
        "custs_df = pd.read_excel(\"https://raw.githubusercontent.com/manaranjanp/ISB_MLUL1/main/distance/Distance_Datasets.xlsx\",\n",
        "                         'Customers')"
      ]
    },
    {
      "cell_type": "code",
      "execution_count": null,
      "metadata": {
        "id": "uVj6kbkKse-o"
      },
      "outputs": [],
      "source": [
        "custs_df"
      ]
    },
    {
      "cell_type": "code",
      "execution_count": null,
      "metadata": {
        "id": "Ldlxczntse-o"
      },
      "outputs": [],
      "source": [
        "sn.scatterplot(data = custs_df,\n",
        "               x = 'Age',\n",
        "               y = 'Income');"
      ]
    },
    {
      "cell_type": "markdown",
      "metadata": {
        "id": "2yqQ3g8Rse-p"
      },
      "source": [
        "# Euclidean Distance"
      ]
    },
    {
      "cell_type": "markdown",
      "metadata": {
        "id": "enKOKBmxse-p"
      },
      "source": [
        "The  distance between two customers, $customer_{1}$ and $customer_{2}$ is calcualte as follows:\n",
        "\n",
        "$\\sqrt{(age_{1} - age_{2})^2 +  (income_{1} - income_{2})^2}$"
      ]
    },
    {
      "cell_type": "code",
      "execution_count": null,
      "metadata": {
        "id": "ovZywKzqse-p"
      },
      "outputs": [],
      "source": [
        "from sklearn.metrics.pairwise import euclidean_distances"
      ]
    },
    {
      "cell_type": "code",
      "execution_count": null,
      "metadata": {
        "id": "3IzuHcASse-q"
      },
      "outputs": [],
      "source": [
        "euclidean_distances(custs_df[['Age', 'Income']])"
      ]
    },
    {
      "cell_type": "markdown",
      "metadata": {
        "id": "_c470jybse-q"
      },
      "source": [
        "#### Inference:\n",
        "\n",
        "- Distance wise A and B are very different, whereas A and c are similar.\n",
        "In reality, A and B are are very similar whereas A and C are very different as they have huge difference in terms of age.\n",
        "\n",
        "- This is because of difference in scale in which age and income are represented."
      ]
    },
    {
      "cell_type": "markdown",
      "metadata": {
        "id": "Bn5yxqt7se-q"
      },
      "source": [
        "# Min Max Scaling\n",
        "\n",
        "\n",
        "In this technique, the minimum value of the feature is scaled to 0 and the maximum value is scaled to 1. All other values are scaled to a value between 0 and 1 based on their relative position to the minimum and maximum values.\n",
        "\n",
        "$X_{norm} = \\frac{X_{i} - X_{min}}{X_{max} - X_{min}}$\n",
        "\n",
        "[Sklearn Source](https://scikit-learn.org/stable/modules/generated/sklearn.preprocessing.MinMaxScaler.html)"
      ]
    },
    {
      "cell_type": "code",
      "execution_count": null,
      "metadata": {
        "id": "qjRTMdJCse-q"
      },
      "outputs": [],
      "source": [
        "from sklearn.preprocessing import MinMaxScaler"
      ]
    },
    {
      "cell_type": "code",
      "source": [
        "new_rows = [['E', 0, 0], ['F', 100, 5000]]"
      ],
      "metadata": {
        "id": "na4FFbicxHY8"
      },
      "execution_count": null,
      "outputs": []
    },
    {
      "cell_type": "code",
      "source": [
        "new_df = pd.DataFrame(new_rows, columns=custs_df.columns)\n",
        "custs_df = pd.concat([custs_df, new_df], ignore_index=True)"
      ],
      "metadata": {
        "id": "iiZPQN4OxEpl"
      },
      "execution_count": null,
      "outputs": []
    },
    {
      "cell_type": "code",
      "source": [
        "custs_df"
      ],
      "metadata": {
        "id": "LWCm_J2mww7h"
      },
      "execution_count": null,
      "outputs": []
    },
    {
      "cell_type": "code",
      "execution_count": null,
      "metadata": {
        "id": "Wt65ecs3se-q"
      },
      "outputs": [],
      "source": [
        "scaler = MinMaxScaler()\n",
        "scaled_custs_df = scaler.fit_transform(custs_df[[\"Age\", \"Income\"]] )\n",
        "\n",
        "scaled_custs_df[0:10]"
      ]
    },
    {
      "cell_type": "code",
      "source": [
        "subset_df = scaled_custs_df[0:4]"
      ],
      "metadata": {
        "id": "ykpuK95MyBpN"
      },
      "execution_count": null,
      "outputs": []
    },
    {
      "cell_type": "code",
      "execution_count": null,
      "metadata": {
        "id": "lwDX-TsVse-q"
      },
      "outputs": [],
      "source": [
        "dist = euclidean_distances(subset_df)"
      ]
    },
    {
      "cell_type": "code",
      "execution_count": null,
      "metadata": {
        "id": "zjxK1g1pse-q"
      },
      "outputs": [],
      "source": [
        "pd.DataFrame(dist, index = custs_df[0:4].Name, columns = custs_df[0:4].Name )"
      ]
    },
    {
      "cell_type": "markdown",
      "metadata": {
        "id": "-CMfNaTdse-q"
      },
      "source": [
        "# Cosine Distances"
      ]
    },
    {
      "cell_type": "code",
      "execution_count": null,
      "metadata": {
        "id": "t9OUoolQse-r"
      },
      "outputs": [],
      "source": [
        "from sklearn.metrics.pairwise import cosine_similarity"
      ]
    },
    {
      "cell_type": "code",
      "execution_count": null,
      "metadata": {
        "id": "UlxLT0hCse-r"
      },
      "outputs": [],
      "source": [
        "cosine_similarity(custs_df[0:4][['Age', 'Income']])"
      ]
    },
    {
      "cell_type": "markdown",
      "metadata": {
        "id": "IzPXItvKse-r"
      },
      "source": [
        "# Jaccard Distance for categorical features"
      ]
    },
    {
      "cell_type": "code",
      "execution_count": null,
      "metadata": {
        "id": "rlKtAdOlse-r"
      },
      "outputs": [],
      "source": [
        "movies_df = pd.read_excel(\"https://raw.githubusercontent.com/manaranjanp/ISB_MLUL1/main/distance/Distance_Datasets.xlsx\",\n",
        "                          \"Movies\",\n",
        "                          index_col='Users')"
      ]
    },
    {
      "cell_type": "code",
      "execution_count": null,
      "metadata": {
        "id": "J9joerPlse-r"
      },
      "outputs": [],
      "source": [
        "movies_df"
      ]
    },
    {
      "cell_type": "code",
      "execution_count": null,
      "metadata": {
        "id": "tmF7-uEMse-r"
      },
      "outputs": [],
      "source": [
        "from scipy.spatial.distance import jaccard"
      ]
    },
    {
      "cell_type": "code",
      "execution_count": null,
      "metadata": {
        "id": "VCrHH3Q0se-r"
      },
      "outputs": [],
      "source": [
        "jaccard(movies_df.loc['User_1'].values, movies_df.loc['User_2'].values)"
      ]
    },
    {
      "cell_type": "code",
      "execution_count": null,
      "metadata": {
        "id": "XDiQ1Hjpse-r"
      },
      "outputs": [],
      "source": [
        "from sklearn.metrics.pairwise import pairwise_distances"
      ]
    },
    {
      "cell_type": "code",
      "execution_count": null,
      "metadata": {
        "id": "Z2w1c5URse-r"
      },
      "outputs": [],
      "source": [
        "jaccard_similarity = 1 - pairwise_distances(movies_df.values, metric=\"jaccard\")"
      ]
    },
    {
      "cell_type": "code",
      "execution_count": null,
      "metadata": {
        "id": "RT7Zrlhdse-r"
      },
      "outputs": [],
      "source": [
        "jaccard_similarity"
      ]
    },
    {
      "cell_type": "code",
      "execution_count": null,
      "metadata": {
        "id": "WKCCjxN2se-r"
      },
      "outputs": [],
      "source": [
        "user_sim_df = pd.DataFrame(jaccard_similarity, index = movies_df.index, columns = movies_df.index )\n",
        "user_sim_df"
      ]
    },
    {
      "cell_type": "markdown",
      "source": [
        "### Finding the similar user"
      ],
      "metadata": {
        "id": "EzkqgAoASeyo"
      }
    },
    {
      "cell_type": "code",
      "source": [
        "# Function to get most similar user (excluding self)\n",
        "def most_similar_user(df, username):\n",
        "    return df.loc[username].drop(username).idxmax()"
      ],
      "metadata": {
        "id": "lxtn3pImSDIE"
      },
      "execution_count": null,
      "outputs": []
    },
    {
      "cell_type": "code",
      "source": [
        "# Example usage\n",
        "user = \"User_4\"\n",
        "most_similar = most_similar_user(user_sim_df, user)\n",
        "print(f\"The most similar user to {user} is: {most_similar}\")"
      ],
      "metadata": {
        "id": "S1AIdx_qSPx-"
      },
      "execution_count": null,
      "outputs": []
    }
  ],
  "metadata": {
    "anaconda-cloud": {},
    "kernelspec": {
      "display_name": "Python 3 (ipykernel)",
      "language": "python",
      "name": "python3"
    },
    "language_info": {
      "codemirror_mode": {
        "name": "ipython",
        "version": 3
      },
      "file_extension": ".py",
      "mimetype": "text/x-python",
      "name": "python",
      "nbconvert_exporter": "python",
      "pygments_lexer": "ipython3",
      "version": "3.10.9"
    },
    "colab": {
      "provenance": []
    }
  },
  "nbformat": 4,
  "nbformat_minor": 0
}