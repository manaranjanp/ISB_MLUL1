{
  "cells": [
    {
      "cell_type": "markdown",
      "metadata": {
        "id": "PUmOP_Qi5-pp"
      },
      "source": [
        "# Product Segmentation"
      ]
    },
    {
      "cell_type": "code",
      "execution_count": null,
      "metadata": {
        "id": "eEsDLgVc5-ps"
      },
      "outputs": [],
      "source": [
        "#!pip install yellowbrick"
      ]
    },
    {
      "cell_type": "code",
      "execution_count": null,
      "metadata": {
        "id": "y8uTJi2H5-pt"
      },
      "outputs": [],
      "source": [
        "import pandas as pd\n",
        "import numpy as np\n",
        "import matplotlib.pyplot as plt\n",
        "import seaborn as sn"
      ]
    },
    {
      "cell_type": "code",
      "execution_count": null,
      "metadata": {
        "id": "FQqpVPD65-pt"
      },
      "outputs": [],
      "source": [
        "import warnings\n",
        "warnings.filterwarnings('ignore')"
      ]
    },
    {
      "cell_type": "code",
      "execution_count": null,
      "metadata": {
        "id": "uKs_-usI5-pt"
      },
      "outputs": [],
      "source": [
        "data_file = \"beer.csv\""
      ]
    },
    {
      "cell_type": "code",
      "execution_count": null,
      "metadata": {
        "id": "nMb-RtFb5-pu"
      },
      "outputs": [],
      "source": [
        "beer_df = pd.read_csv( data_file )"
      ]
    },
    {
      "cell_type": "code",
      "execution_count": null,
      "metadata": {
        "id": "hY2c9Pdm5-pu"
      },
      "outputs": [],
      "source": [
        "beer_df"
      ]
    },
    {
      "cell_type": "code",
      "execution_count": null,
      "metadata": {
        "id": "4tFX0sCW5-pv"
      },
      "outputs": [],
      "source": [
        "sn.scatterplot(data = beer_df,\n",
        "               x = 'alcohol',\n",
        "               y = 'calories');"
      ]
    },
    {
      "cell_type": "code",
      "source": [
        "sn.scatterplot(data = beer_df,\n",
        "               x = 'alcohol',\n",
        "               y = 'cost');"
      ],
      "metadata": {
        "id": "CNaSbhBX5heT"
      },
      "execution_count": null,
      "outputs": []
    },
    {
      "cell_type": "markdown",
      "metadata": {
        "id": "lma7qHEb5-pv"
      },
      "source": [
        "## Scaling"
      ]
    },
    {
      "cell_type": "markdown",
      "metadata": {
        "id": "iQsjuWt37km9"
      },
      "source": [
        "#### Rescaling the dataset"
      ]
    },
    {
      "cell_type": "code",
      "execution_count": null,
      "metadata": {
        "id": "lAx77s077km-"
      },
      "outputs": [],
      "source": [
        "from sklearn.preprocessing import MinMaxScaler"
      ]
    },
    {
      "cell_type": "code",
      "execution_count": null,
      "metadata": {
        "id": "3bQOntCV7km-"
      },
      "outputs": [],
      "source": [
        "scaler = MinMaxScaler()\n",
        "scaled_beer_df = scaler.fit_transform( beer_df[['calories',\n",
        "                                                'sodium',\n",
        "                                                'alcohol',\n",
        "                                                'cost']] )"
      ]
    },
    {
      "cell_type": "code",
      "execution_count": null,
      "metadata": {
        "id": "qy5_3JIY5-pw"
      },
      "outputs": [],
      "source": [
        "from sklearn.cluster import KMeans\n",
        "\n",
        "cluster_range = range( 1, 10 )\n",
        "cluster_errors = []\n",
        "\n",
        "for num_clusters in cluster_range:\n",
        "  clusters = KMeans( num_clusters )\n",
        "  clusters.fit( scaled_beer_df )\n",
        "  cluster_errors.append( clusters.inertia_ )\n",
        "\n",
        "plt.figure(figsize=(8,4))\n",
        "plt.plot( cluster_range, cluster_errors, marker = \"o\" );"
      ]
    },
    {
      "cell_type": "markdown",
      "metadata": {
        "id": "gp0sBhhe7km-"
      },
      "source": [
        "#### Creating 4 Clusters"
      ]
    },
    {
      "cell_type": "markdown",
      "metadata": {
        "id": "HVaVyg0g7km-"
      },
      "source": [
        "We will set k to 3 for running *KMeans* algorithm and create a new column *clusterid* in *beer_df* to capture the cluster number it is assigned to."
      ]
    },
    {
      "cell_type": "code",
      "execution_count": null,
      "metadata": {
        "id": "HbWK0rXD7km-"
      },
      "outputs": [],
      "source": [
        "k = 4\n",
        "\n",
        "clusters = KMeans( k, random_state = 42 )\n",
        "clusters.fit( scaled_beer_df )\n",
        "beer_df[\"clusterid\"] = clusters.labels_"
      ]
    },
    {
      "cell_type": "code",
      "execution_count": null,
      "metadata": {
        "id": "OZdAmdEJ7km-"
      },
      "outputs": [],
      "source": [
        "clusters.labels_"
      ]
    },
    {
      "cell_type": "markdown",
      "metadata": {
        "id": "fdpa3BUW7km-"
      },
      "source": [
        "## Understanding the clusters"
      ]
    },
    {
      "cell_type": "code",
      "execution_count": null,
      "metadata": {
        "id": "oGgFCixG7km-"
      },
      "outputs": [],
      "source": [
        "sn.violinplot(data = beer_df,\n",
        "              y = 'calories',\n",
        "              x = 'clusterid');"
      ]
    },
    {
      "cell_type": "code",
      "execution_count": null,
      "metadata": {
        "id": "ssGU12IS7km-"
      },
      "outputs": [],
      "source": [
        "sn.violinplot(data = beer_df,\n",
        "              y = 'cost',\n",
        "              x = 'clusterid');"
      ]
    },
    {
      "cell_type": "code",
      "execution_count": null,
      "metadata": {
        "id": "kot2pLtj7km_"
      },
      "outputs": [],
      "source": [
        "sn.scatterplot(data = beer_df,\n",
        "               x = 'cost',\n",
        "               y = 'calories',\n",
        "               hue = 'clusterid');"
      ]
    },
    {
      "cell_type": "markdown",
      "metadata": {
        "id": "zwwNNTr27km_"
      },
      "source": [
        "#### Cluster 0"
      ]
    },
    {
      "cell_type": "code",
      "execution_count": null,
      "metadata": {
        "id": "9gZd7Dh57km_"
      },
      "outputs": [],
      "source": [
        "beer_df[beer_df.clusterid == 0]"
      ]
    },
    {
      "cell_type": "markdown",
      "metadata": {
        "id": "gI0haxXg7km_"
      },
      "source": [
        "#### Cluster 1"
      ]
    },
    {
      "cell_type": "code",
      "execution_count": null,
      "metadata": {
        "id": "Csf4O8Fp7km_"
      },
      "outputs": [],
      "source": [
        "beer_df[beer_df.clusterid == 1]"
      ]
    },
    {
      "cell_type": "markdown",
      "metadata": {
        "id": "mhfXb0uO7km_"
      },
      "source": [
        "#### Cluster 2"
      ]
    },
    {
      "cell_type": "code",
      "execution_count": null,
      "metadata": {
        "id": "Bo_haqha7km_"
      },
      "outputs": [],
      "source": [
        "beer_df[beer_df.clusterid == 2]"
      ]
    },
    {
      "cell_type": "markdown",
      "metadata": {
        "id": "42eoQ4Gk7km_"
      },
      "source": [
        "#### Cluster 3"
      ]
    },
    {
      "cell_type": "code",
      "execution_count": null,
      "metadata": {
        "id": "7oLHlZeR7km_"
      },
      "outputs": [],
      "source": [
        "beer_df[beer_df.clusterid == 3]"
      ]
    },
    {
      "cell_type": "markdown",
      "metadata": {
        "id": "5ZKDZk6I5-pw"
      },
      "source": [
        "## Understanding number of clusters using Using Dendrogram"
      ]
    },
    {
      "cell_type": "code",
      "execution_count": null,
      "metadata": {
        "id": "qGClX4VE5-pw"
      },
      "outputs": [],
      "source": [
        "cmap = sn.cubehelix_palette(as_cmap=True, rot=-.3, light=1)\n",
        "sn.clustermap(scaled_beer_df,\n",
        "              cmap=cmap,\n",
        "              linewidths=.2,\n",
        "              figsize = (6,6) );"
      ]
    },
    {
      "cell_type": "code",
      "execution_count": null,
      "metadata": {
        "id": "54ajuSog5-pw"
      },
      "outputs": [],
      "source": [
        "beer_df.iloc[[9,15]]"
      ]
    },
    {
      "cell_type": "code",
      "execution_count": null,
      "metadata": {
        "id": "GKISPole5-pw"
      },
      "outputs": [],
      "source": [
        "beer_df.iloc[[16,14]]"
      ]
    },
    {
      "cell_type": "markdown",
      "metadata": {
        "id": "VidWcnBI5-pw"
      },
      "source": [
        "## Evaluating the quality of cluster using Silhouette score"
      ]
    },
    {
      "cell_type": "code",
      "execution_count": null,
      "metadata": {
        "id": "pBB8AuZc5-pw"
      },
      "outputs": [],
      "source": [
        "from yellowbrick.cluster import SilhouetteVisualizer\n",
        "\n",
        "fig, ax = plt.subplots(2, 2, figsize=(15,8))\n",
        "num_clusters = [2, 3, 4, 5]\n",
        "for i, k in enumerate(num_clusters):\n",
        "    km = KMeans(n_clusters=k,\n",
        "                random_state=42)\n",
        "    q, mod = divmod(i, 2)\n",
        "    visualizer = SilhouetteVisualizer(km,\n",
        "                                      colors='yellowbrick',\n",
        "                                      ax=ax[q-1][mod])\n",
        "    visualizer.fit(scaled_beer_df)"
      ]
    },
    {
      "cell_type": "markdown",
      "metadata": {
        "id": "Illeoun_5-p4"
      },
      "source": [
        "# Evaluating Cluster Performane\n",
        "\n",
        "## Calinski-Harabasz Index"
      ]
    },
    {
      "cell_type": "code",
      "execution_count": null,
      "metadata": {
        "id": "F7kk58FE5-p4"
      },
      "outputs": [],
      "source": [
        "from sklearn.metrics import calinski_harabasz_score"
      ]
    },
    {
      "cell_type": "code",
      "execution_count": null,
      "metadata": {
        "id": "h75cFEA05-p4"
      },
      "outputs": [],
      "source": [
        "cluster_range = range( 3, 6 )\n",
        "ch_scores = []\n",
        "\n",
        "for num_clusters in cluster_range:\n",
        "  clusters = KMeans( num_clusters )\n",
        "  clusters.fit( scaled_beer_df )\n",
        "  print(f\"n_cluster: {num_clusters} - CH Score: {calinski_harabasz_score(scaled_beer_df, clusters.labels_)}\" )"
      ]
    }
  ],
  "metadata": {
    "anaconda-cloud": {},
    "kernelspec": {
      "display_name": "Python 3 (ipykernel)",
      "language": "python",
      "name": "python3"
    },
    "language_info": {
      "codemirror_mode": {
        "name": "ipython",
        "version": 3
      },
      "file_extension": ".py",
      "mimetype": "text/x-python",
      "name": "python",
      "nbconvert_exporter": "python",
      "pygments_lexer": "ipython3",
      "version": "3.10.9"
    },
    "colab": {
      "provenance": []
    }
  },
  "nbformat": 4,
  "nbformat_minor": 0
}