{
 "cells": [
  {
   "cell_type": "markdown",
   "metadata": {
    "id": "71aa8a87",
    "jp-MarkdownHeadingCollapsed": true
   },
   "source": [
    "# Customer Segmentation"
   ]
  },
  {
   "cell_type": "code",
   "execution_count": 1,
   "metadata": {
    "id": "d3fe5393"
   },
   "outputs": [],
   "source": [
    "#Importing liberaries\n",
    "import numpy as np\n",
    "import pandas as pd\n",
    "import matplotlib.pyplot as plt\n",
    "import seaborn as sn\n",
    "\n",
    "import warnings\n",
    "warnings.filterwarnings('ignore')\n",
    "\n",
    "import datetime as dt\n",
    "from sklearn.preprocessing import StandardScaler\n",
    "from sklearn.cluster import KMeans\n",
    "\n",
    "pd.set_option('display.float_format', '{:.2f}'.format)"
   ]
  },
  {
   "cell_type": "markdown",
   "metadata": {
    "jp-MarkdownHeadingCollapsed": true
   },
   "source": [
    "## Reading the File"
   ]
  },
  {
   "cell_type": "code",
   "execution_count": 2,
   "metadata": {
    "id": "86c19b6d",
    "scrolled": true
   },
   "outputs": [
    {
     "data": {
      "text/html": [
       "<div>\n",
       "<style scoped>\n",
       "    .dataframe tbody tr th:only-of-type {\n",
       "        vertical-align: middle;\n",
       "    }\n",
       "\n",
       "    .dataframe tbody tr th {\n",
       "        vertical-align: top;\n",
       "    }\n",
       "\n",
       "    .dataframe thead th {\n",
       "        text-align: right;\n",
       "    }\n",
       "</style>\n",
       "<table border=\"1\" class=\"dataframe\">\n",
       "  <thead>\n",
       "    <tr style=\"text-align: right;\">\n",
       "      <th></th>\n",
       "      <th>OrderiD</th>\n",
       "      <th>Item_Id</th>\n",
       "      <th>CustomerCode</th>\n",
       "      <th>CountryName</th>\n",
       "      <th>customer_country</th>\n",
       "      <th>QtyRequired</th>\n",
       "      <th>TotalArea</th>\n",
       "      <th>Amount</th>\n",
       "      <th>ITEM_NAME</th>\n",
       "      <th>QualityName</th>\n",
       "      <th>DesignName</th>\n",
       "      <th>ColorName</th>\n",
       "      <th>ShapeName</th>\n",
       "    </tr>\n",
       "  </thead>\n",
       "  <tbody>\n",
       "    <tr>\n",
       "      <th>0</th>\n",
       "      <td>1</td>\n",
       "      <td>5</td>\n",
       "      <td>H-1</td>\n",
       "      <td>USA</td>\n",
       "      <td>H-1USA</td>\n",
       "      <td>6</td>\n",
       "      <td>128.25</td>\n",
       "      <td>769.50</td>\n",
       "      <td>HAND TUFTED</td>\n",
       "      <td>TUFTED 30C HARD TWIST</td>\n",
       "      <td>OLD LONDON [3715]</td>\n",
       "      <td>GREEN/IVORY</td>\n",
       "      <td>REC</td>\n",
       "    </tr>\n",
       "    <tr>\n",
       "      <th>1</th>\n",
       "      <td>1</td>\n",
       "      <td>26</td>\n",
       "      <td>H-1</td>\n",
       "      <td>USA</td>\n",
       "      <td>H-1USA</td>\n",
       "      <td>6</td>\n",
       "      <td>117.00</td>\n",
       "      <td>702.00</td>\n",
       "      <td>HAND TUFTED</td>\n",
       "      <td>TUFTED 60C</td>\n",
       "      <td>DUDLEY [9012]</td>\n",
       "      <td>BEIGE</td>\n",
       "      <td>REC</td>\n",
       "    </tr>\n",
       "    <tr>\n",
       "      <th>2</th>\n",
       "      <td>1</td>\n",
       "      <td>17</td>\n",
       "      <td>H-1</td>\n",
       "      <td>USA</td>\n",
       "      <td>H-1USA</td>\n",
       "      <td>7</td>\n",
       "      <td>88.00</td>\n",
       "      <td>616.00</td>\n",
       "      <td>HAND TUFTED</td>\n",
       "      <td>TUFTED 60C</td>\n",
       "      <td>WEMBLY [CC-206]</td>\n",
       "      <td>BEIGE/SAGE</td>\n",
       "      <td>REC</td>\n",
       "    </tr>\n",
       "    <tr>\n",
       "      <th>3</th>\n",
       "      <td>1</td>\n",
       "      <td>496</td>\n",
       "      <td>H-1</td>\n",
       "      <td>USA</td>\n",
       "      <td>H-1USA</td>\n",
       "      <td>7</td>\n",
       "      <td>88.00</td>\n",
       "      <td>616.00</td>\n",
       "      <td>HAND TUFTED</td>\n",
       "      <td>TUFTED 60C</td>\n",
       "      <td>SYMPHONY [8900]</td>\n",
       "      <td>CHARCOAL</td>\n",
       "      <td>REC</td>\n",
       "    </tr>\n",
       "    <tr>\n",
       "      <th>4</th>\n",
       "      <td>1</td>\n",
       "      <td>30</td>\n",
       "      <td>H-1</td>\n",
       "      <td>USA</td>\n",
       "      <td>H-1USA</td>\n",
       "      <td>5</td>\n",
       "      <td>117.00</td>\n",
       "      <td>585.00</td>\n",
       "      <td>HAND TUFTED</td>\n",
       "      <td>TUFTED 60C</td>\n",
       "      <td>DUDLEY [9012]</td>\n",
       "      <td>NAVY/BEIGE</td>\n",
       "      <td>REC</td>\n",
       "    </tr>\n",
       "  </tbody>\n",
       "</table>\n",
       "</div>"
      ],
      "text/plain": [
       "   OrderiD  Item_Id CustomerCode CountryName customer_country  QtyRequired  \\\n",
       "0        1        5          H-1         USA           H-1USA            6   \n",
       "1        1       26          H-1         USA           H-1USA            6   \n",
       "2        1       17          H-1         USA           H-1USA            7   \n",
       "3        1      496          H-1         USA           H-1USA            7   \n",
       "4        1       30          H-1         USA           H-1USA            5   \n",
       "\n",
       "   TotalArea  Amount    ITEM_NAME            QualityName         DesignName  \\\n",
       "0     128.25  769.50  HAND TUFTED  TUFTED 30C HARD TWIST  OLD LONDON [3715]   \n",
       "1     117.00  702.00  HAND TUFTED             TUFTED 60C      DUDLEY [9012]   \n",
       "2      88.00  616.00  HAND TUFTED             TUFTED 60C    WEMBLY [CC-206]   \n",
       "3      88.00  616.00  HAND TUFTED             TUFTED 60C    SYMPHONY [8900]   \n",
       "4     117.00  585.00  HAND TUFTED             TUFTED 60C      DUDLEY [9012]   \n",
       "\n",
       "     ColorName ShapeName  \n",
       "0  GREEN/IVORY       REC  \n",
       "1        BEIGE       REC  \n",
       "2   BEIGE/SAGE       REC  \n",
       "3     CHARCOAL       REC  \n",
       "4   NAVY/BEIGE       REC  "
      ]
     },
     "execution_count": 2,
     "metadata": {},
     "output_type": "execute_result"
    }
   ],
   "source": [
    "#importing the file into the dataframe\n",
    "retail_df = pd.read_csv(\"Champo Carpets V1.csv\")\n",
    "retail_df.head(5)"
   ]
  },
  {
   "cell_type": "code",
   "execution_count": 3,
   "metadata": {
    "colab": {
     "base_uri": "https://localhost:8080/"
    },
    "id": "eb0cb5d3",
    "outputId": "203a2a4e-c3d2-4f8d-c33f-d1f7d424d693"
   },
   "outputs": [
    {
     "data": {
      "text/plain": [
       "(13135, 13)"
      ]
     },
     "execution_count": 3,
     "metadata": {},
     "output_type": "execute_result"
    }
   ],
   "source": [
    "#checking the size of the matrix\n",
    "retail_df.shape"
   ]
  },
  {
   "cell_type": "code",
   "execution_count": 4,
   "metadata": {
    "colab": {
     "base_uri": "https://localhost:8080/"
    },
    "id": "9c987bd2",
    "outputId": "0723782f-f669-4262-e5ee-6216c5398684"
   },
   "outputs": [
    {
     "name": "stdout",
     "output_type": "stream",
     "text": [
      "<class 'pandas.core.frame.DataFrame'>\n",
      "RangeIndex: 13135 entries, 0 to 13134\n",
      "Data columns (total 13 columns):\n",
      " #   Column            Non-Null Count  Dtype  \n",
      "---  ------            --------------  -----  \n",
      " 0   OrderiD           13135 non-null  int64  \n",
      " 1   Item_Id           13135 non-null  int64  \n",
      " 2   CustomerCode      13135 non-null  object \n",
      " 3   CountryName       13135 non-null  object \n",
      " 4   customer_country  13135 non-null  object \n",
      " 5   QtyRequired       13135 non-null  int64  \n",
      " 6   TotalArea         13135 non-null  float64\n",
      " 7   Amount            13135 non-null  float64\n",
      " 8   ITEM_NAME         13135 non-null  object \n",
      " 9   QualityName       13135 non-null  object \n",
      " 10  DesignName        13135 non-null  object \n",
      " 11  ColorName         13135 non-null  object \n",
      " 12  ShapeName         13135 non-null  object \n",
      "dtypes: float64(2), int64(3), object(8)\n",
      "memory usage: 1.3+ MB\n"
     ]
    }
   ],
   "source": [
    "#checking for information of the DF, we will get to know if any data is missing or not.\n",
    "retail_df.info();"
   ]
  },
  {
   "cell_type": "code",
   "execution_count": 5,
   "metadata": {
    "colab": {
     "base_uri": "https://localhost:8080/",
     "height": 147
    },
    "id": "776ae2ce",
    "outputId": "5fbca3aa-3ace-4610-e928-6fa505afbfc4"
   },
   "outputs": [
    {
     "data": {
      "text/plain": [
       "CountryName\n",
       "USA             9196\n",
       "UK              1491\n",
       "ITALY            551\n",
       "ROMANIYA         436\n",
       "AUSTRALIA        301\n",
       "CANADA           273\n",
       "BELGIUM          214\n",
       "INDIA            194\n",
       "LEBENON          168\n",
       "BRAZIL           160\n",
       "SOUTH AFRICA      84\n",
       "CHINA             57\n",
       "ISRAEL             8\n",
       "UAE                2\n",
       "Name: count, dtype: int64"
      ]
     },
     "execution_count": 5,
     "metadata": {},
     "output_type": "execute_result"
    }
   ],
   "source": [
    "#checking the Value counts of counties \n",
    "retail_df.CountryName.value_counts()"
   ]
  },
  {
   "cell_type": "code",
   "execution_count": 6,
   "metadata": {},
   "outputs": [
    {
     "name": "stdout",
     "output_type": "stream",
     "text": [
      "<class 'pandas.core.frame.DataFrame'>\n",
      "RangeIndex: 13135 entries, 0 to 13134\n",
      "Data columns (total 13 columns):\n",
      " #   Column            Non-Null Count  Dtype  \n",
      "---  ------            --------------  -----  \n",
      " 0   OrderiD           13135 non-null  int64  \n",
      " 1   Item_Id           13135 non-null  int64  \n",
      " 2   CustomerCode      13135 non-null  object \n",
      " 3   CountryName       13135 non-null  object \n",
      " 4   customer_country  13135 non-null  object \n",
      " 5   QtyRequired       13135 non-null  int64  \n",
      " 6   TotalArea         13135 non-null  float64\n",
      " 7   Amount            13135 non-null  float64\n",
      " 8   ITEM_NAME         13135 non-null  object \n",
      " 9   QualityName       13135 non-null  object \n",
      " 10  DesignName        13135 non-null  object \n",
      " 11  ColorName         13135 non-null  object \n",
      " 12  ShapeName         13135 non-null  object \n",
      "dtypes: float64(2), int64(3), object(8)\n",
      "memory usage: 1.3+ MB\n"
     ]
    }
   ],
   "source": [
    "retail_df.info()"
   ]
  },
  {
   "cell_type": "code",
   "execution_count": 7,
   "metadata": {
    "colab": {
     "base_uri": "https://localhost:8080/",
     "height": 449
    },
    "id": "c6d2fc49",
    "outputId": "04c81e88-e092-4009-d70a-c63ca6686c1a"
   },
   "outputs": [
    {
     "data": {
      "image/png": "[encoded data removed]",
      "text/plain": [
       "<Figure size 640x480 with 1 Axes>"
      ]
     },
     "metadata": {},
     "output_type": "display_data"
    }
   ],
   "source": [
    "sn.kdeplot(retail_df.QtyRequired);"
   ]
  },
  {
   "cell_type": "markdown",
   "metadata": {
    "id": "11dc5d7b",
    "jp-MarkdownHeadingCollapsed": true
   },
   "source": [
    "## Exploratory Analysis"
   ]
  },
  {
   "cell_type": "markdown",
   "metadata": {
    "jp-MarkdownHeadingCollapsed": true
   },
   "source": [
    "### Checking Relationship between total sales vs countries. \n",
    "We clearly see that USA is leading in total sales followed by UK, but the gap is big."
   ]
  },
  {
   "cell_type": "markdown",
   "metadata": {},
   "source": [
    "#### Finding totals\n"
   ]
  },
  {
   "cell_type": "code",
   "execution_count": 8,
   "metadata": {},
   "outputs": [
    {
     "data": {
      "text/plain": [
       "CountryName\n",
       "AUSTRALIA        356938.86\n",
       "BELGIUM          426791.41\n",
       "BRAZIL            59877.27\n",
       "CANADA           116778.30\n",
       "CHINA             24919.96\n",
       "INDIA            147574.00\n",
       "ISRAEL            17128.88\n",
       "ITALY            563098.85\n",
       "LEBENON           56742.73\n",
       "ROMANIYA         426626.05\n",
       "SOUTH AFRICA     130457.99\n",
       "UAE               44234.00\n",
       "UK              1965411.23\n",
       "USA            27082868.03\n",
       "Name: Amount, dtype: float64"
      ]
     },
     "execution_count": 8,
     "metadata": {},
     "output_type": "execute_result"
    }
   ],
   "source": [
    "#Checking the Country wise sales distribution.\n",
    "retail_df.groupby('CountryName')['Amount'].sum()"
   ]
  },
  {
   "cell_type": "markdown",
   "metadata": {},
   "source": [
    "#### Bar Chart\n"
   ]
  },
  {
   "cell_type": "code",
   "execution_count": 9,
   "metadata": {},
   "outputs": [
    {
     "data": {
      "image/png": "[encoded data removed]",
      "text/plain": [
       "<Figure size 1200x1000 with 1 Axes>"
      ]
     },
     "metadata": {},
     "output_type": "display_data"
    }
   ],
   "source": [
    "#plotting Total sales per country\n",
    "plt.figure(figsize=(12, 10))  \n",
    "\n",
    "(retail_df.groupby('CountryName')['Amount'].sum()/10000).plot(kind='bar', color='skyblue')\n",
    "\n",
    "plt.xlabel('Country')\n",
    "plt.ylabel('Total sales amount in 0000s')\n",
    "plt.title('Bar Chart of country vs. total sales')\n",
    "\n",
    "\n",
    "plt.show()"
   ]
  },
  {
   "cell_type": "markdown",
   "metadata": {
    "id": "11dc5d7b"
   },
   "source": [
    "### Checking speread of amounts by item name\n",
    "We can clearly see that onekind of item is generating most sales"
   ]
  },
  {
   "cell_type": "code",
   "execution_count": 10,
   "metadata": {
    "colab": {
     "base_uri": "https://localhost:8080/",
     "height": 276
    },
    "id": "9be4521b",
    "outputId": "4dbb0f92-a3ab-45cf-ee33-c434bdafe104"
   },
   "outputs": [
    {
     "data": {
      "text/html": [
       "<div>\n",
       "<style scoped>\n",
       "    .dataframe tbody tr th:only-of-type {\n",
       "        vertical-align: middle;\n",
       "    }\n",
       "\n",
       "    .dataframe tbody tr th {\n",
       "        vertical-align: top;\n",
       "    }\n",
       "\n",
       "    .dataframe thead th {\n",
       "        text-align: right;\n",
       "    }\n",
       "</style>\n",
       "<table border=\"1\" class=\"dataframe\">\n",
       "  <thead>\n",
       "    <tr style=\"text-align: right;\">\n",
       "      <th></th>\n",
       "      <th>OrderiD</th>\n",
       "      <th>Item_Id</th>\n",
       "      <th>CustomerCode</th>\n",
       "      <th>CountryName</th>\n",
       "      <th>customer_country</th>\n",
       "      <th>QtyRequired</th>\n",
       "      <th>TotalArea</th>\n",
       "      <th>Amount</th>\n",
       "      <th>ITEM_NAME</th>\n",
       "      <th>QualityName</th>\n",
       "      <th>DesignName</th>\n",
       "      <th>ColorName</th>\n",
       "      <th>ShapeName</th>\n",
       "    </tr>\n",
       "  </thead>\n",
       "  <tbody>\n",
       "    <tr>\n",
       "      <th>0</th>\n",
       "      <td>1</td>\n",
       "      <td>5</td>\n",
       "      <td>H-1</td>\n",
       "      <td>USA</td>\n",
       "      <td>H-1USA</td>\n",
       "      <td>6</td>\n",
       "      <td>128.25</td>\n",
       "      <td>769.50</td>\n",
       "      <td>HAND TUFTED</td>\n",
       "      <td>TUFTED 30C HARD TWIST</td>\n",
       "      <td>OLD LONDON [3715]</td>\n",
       "      <td>GREEN/IVORY</td>\n",
       "      <td>REC</td>\n",
       "    </tr>\n",
       "    <tr>\n",
       "      <th>1</th>\n",
       "      <td>1</td>\n",
       "      <td>26</td>\n",
       "      <td>H-1</td>\n",
       "      <td>USA</td>\n",
       "      <td>H-1USA</td>\n",
       "      <td>6</td>\n",
       "      <td>117.00</td>\n",
       "      <td>702.00</td>\n",
       "      <td>HAND TUFTED</td>\n",
       "      <td>TUFTED 60C</td>\n",
       "      <td>DUDLEY [9012]</td>\n",
       "      <td>BEIGE</td>\n",
       "      <td>REC</td>\n",
       "    </tr>\n",
       "    <tr>\n",
       "      <th>2</th>\n",
       "      <td>1</td>\n",
       "      <td>17</td>\n",
       "      <td>H-1</td>\n",
       "      <td>USA</td>\n",
       "      <td>H-1USA</td>\n",
       "      <td>7</td>\n",
       "      <td>88.00</td>\n",
       "      <td>616.00</td>\n",
       "      <td>HAND TUFTED</td>\n",
       "      <td>TUFTED 60C</td>\n",
       "      <td>WEMBLY [CC-206]</td>\n",
       "      <td>BEIGE/SAGE</td>\n",
       "      <td>REC</td>\n",
       "    </tr>\n",
       "    <tr>\n",
       "      <th>3</th>\n",
       "      <td>1</td>\n",
       "      <td>496</td>\n",
       "      <td>H-1</td>\n",
       "      <td>USA</td>\n",
       "      <td>H-1USA</td>\n",
       "      <td>7</td>\n",
       "      <td>88.00</td>\n",
       "      <td>616.00</td>\n",
       "      <td>HAND TUFTED</td>\n",
       "      <td>TUFTED 60C</td>\n",
       "      <td>SYMPHONY [8900]</td>\n",
       "      <td>CHARCOAL</td>\n",
       "      <td>REC</td>\n",
       "    </tr>\n",
       "    <tr>\n",
       "      <th>4</th>\n",
       "      <td>1</td>\n",
       "      <td>30</td>\n",
       "      <td>H-1</td>\n",
       "      <td>USA</td>\n",
       "      <td>H-1USA</td>\n",
       "      <td>5</td>\n",
       "      <td>117.00</td>\n",
       "      <td>585.00</td>\n",
       "      <td>HAND TUFTED</td>\n",
       "      <td>TUFTED 60C</td>\n",
       "      <td>DUDLEY [9012]</td>\n",
       "      <td>NAVY/BEIGE</td>\n",
       "      <td>REC</td>\n",
       "    </tr>\n",
       "    <tr>\n",
       "      <th>5</th>\n",
       "      <td>1</td>\n",
       "      <td>34</td>\n",
       "      <td>H-1</td>\n",
       "      <td>USA</td>\n",
       "      <td>H-1USA</td>\n",
       "      <td>6</td>\n",
       "      <td>71.25</td>\n",
       "      <td>427.50</td>\n",
       "      <td>HAND TUFTED</td>\n",
       "      <td>TUFTED 60C</td>\n",
       "      <td>GOVERNOR [9014]</td>\n",
       "      <td>BROWN</td>\n",
       "      <td>REC</td>\n",
       "    </tr>\n",
       "    <tr>\n",
       "      <th>6</th>\n",
       "      <td>1</td>\n",
       "      <td>19</td>\n",
       "      <td>H-1</td>\n",
       "      <td>USA</td>\n",
       "      <td>H-1USA</td>\n",
       "      <td>35</td>\n",
       "      <td>11.25</td>\n",
       "      <td>393.75</td>\n",
       "      <td>HAND TUFTED</td>\n",
       "      <td>TUFTED 60C</td>\n",
       "      <td>SYMPHONY [8900]</td>\n",
       "      <td>SAGE/GREEN</td>\n",
       "      <td>REC</td>\n",
       "    </tr>\n",
       "    <tr>\n",
       "      <th>7</th>\n",
       "      <td>1</td>\n",
       "      <td>4</td>\n",
       "      <td>H-1</td>\n",
       "      <td>USA</td>\n",
       "      <td>H-1USA</td>\n",
       "      <td>5</td>\n",
       "      <td>71.25</td>\n",
       "      <td>356.25</td>\n",
       "      <td>HAND TUFTED</td>\n",
       "      <td>TUFTED 30C HARD TWIST</td>\n",
       "      <td>OLD LONDON [3715]</td>\n",
       "      <td>BEIGE</td>\n",
       "      <td>REC</td>\n",
       "    </tr>\n",
       "    <tr>\n",
       "      <th>8</th>\n",
       "      <td>1</td>\n",
       "      <td>29</td>\n",
       "      <td>H-1</td>\n",
       "      <td>USA</td>\n",
       "      <td>H-1USA</td>\n",
       "      <td>4</td>\n",
       "      <td>88.00</td>\n",
       "      <td>352.00</td>\n",
       "      <td>HAND TUFTED</td>\n",
       "      <td>TUFTED 60C</td>\n",
       "      <td>DUDLEY [9012]</td>\n",
       "      <td>NAVY/BEIGE</td>\n",
       "      <td>REC</td>\n",
       "    </tr>\n",
       "    <tr>\n",
       "      <th>9</th>\n",
       "      <td>1</td>\n",
       "      <td>28</td>\n",
       "      <td>H-1</td>\n",
       "      <td>USA</td>\n",
       "      <td>H-1USA</td>\n",
       "      <td>7</td>\n",
       "      <td>40.00</td>\n",
       "      <td>280.00</td>\n",
       "      <td>HAND TUFTED</td>\n",
       "      <td>TUFTED 60C</td>\n",
       "      <td>DUDLEY [9012]</td>\n",
       "      <td>NAVY/BEIGE</td>\n",
       "      <td>REC</td>\n",
       "    </tr>\n",
       "  </tbody>\n",
       "</table>\n",
       "</div>"
      ],
      "text/plain": [
       "   OrderiD  Item_Id CustomerCode CountryName customer_country  QtyRequired  \\\n",
       "0        1        5          H-1         USA           H-1USA            6   \n",
       "1        1       26          H-1         USA           H-1USA            6   \n",
       "2        1       17          H-1         USA           H-1USA            7   \n",
       "3        1      496          H-1         USA           H-1USA            7   \n",
       "4        1       30          H-1         USA           H-1USA            5   \n",
       "5        1       34          H-1         USA           H-1USA            6   \n",
       "6        1       19          H-1         USA           H-1USA           35   \n",
       "7        1        4          H-1         USA           H-1USA            5   \n",
       "8        1       29          H-1         USA           H-1USA            4   \n",
       "9        1       28          H-1         USA           H-1USA            7   \n",
       "\n",
       "   TotalArea  Amount    ITEM_NAME            QualityName         DesignName  \\\n",
       "0     128.25  769.50  HAND TUFTED  TUFTED 30C HARD TWIST  OLD LONDON [3715]   \n",
       "1     117.00  702.00  HAND TUFTED             TUFTED 60C      DUDLEY [9012]   \n",
       "2      88.00  616.00  HAND TUFTED             TUFTED 60C    WEMBLY [CC-206]   \n",
       "3      88.00  616.00  HAND TUFTED             TUFTED 60C    SYMPHONY [8900]   \n",
       "4     117.00  585.00  HAND TUFTED             TUFTED 60C      DUDLEY [9012]   \n",
       "5      71.25  427.50  HAND TUFTED             TUFTED 60C    GOVERNOR [9014]   \n",
       "6      11.25  393.75  HAND TUFTED             TUFTED 60C    SYMPHONY [8900]   \n",
       "7      71.25  356.25  HAND TUFTED  TUFTED 30C HARD TWIST  OLD LONDON [3715]   \n",
       "8      88.00  352.00  HAND TUFTED             TUFTED 60C      DUDLEY [9012]   \n",
       "9      40.00  280.00  HAND TUFTED             TUFTED 60C      DUDLEY [9012]   \n",
       "\n",
       "     ColorName ShapeName  \n",
       "0  GREEN/IVORY       REC  \n",
       "1        BEIGE       REC  \n",
       "2   BEIGE/SAGE       REC  \n",
       "3     CHARCOAL       REC  \n",
       "4   NAVY/BEIGE       REC  \n",
       "5        BROWN       REC  \n",
       "6   SAGE/GREEN       REC  \n",
       "7        BEIGE       REC  \n",
       "8   NAVY/BEIGE       REC  \n",
       "9   NAVY/BEIGE       REC  "
      ]
     },
     "execution_count": 10,
     "metadata": {},
     "output_type": "execute_result"
    }
   ],
   "source": [
    "retail_df.head(10)"
   ]
  },
  {
   "cell_type": "markdown",
   "metadata": {},
   "source": [
    "#### Histogram\n"
   ]
  },
  {
   "cell_type": "code",
   "execution_count": 11,
   "metadata": {},
   "outputs": [
    {
     "data": {
      "image/png": "[encoded data removed]",
      "text/plain": [
       "<Figure size 640x480 with 1 Axes>"
      ]
     },
     "metadata": {},
     "output_type": "display_data"
    }
   ],
   "source": [
    "#Plotting histogram to check distribution\n",
    "plt.hist(retail_df.groupby('ITEM_NAME')['Amount'].sum(), bins=50, color='blue', edgecolor='black')\n",
    "\n",
    "plt.title('Histogram of Amount')\n",
    "plt.xlabel('Value')\n",
    "plt.ylabel('Frequency')\n",
    "\n",
    "plt.show()"
   ]
  },
  {
   "cell_type": "markdown",
   "metadata": {},
   "source": [
    "### Checking Relationship between total sales vs Item names. \n",
    "From the histogram we dont see clear details , we will dig more into which items are performing high.\n",
    "\n",
    "We clearly see that \"Hand-Tuffed\"  is leading in total sales followed by \"DURRY\""
   ]
  },
  {
   "cell_type": "code",
   "execution_count": 12,
   "metadata": {},
   "outputs": [
    {
     "data": {
      "image/png": "[encoded data removed]",
      "text/plain": [
       "<Figure size 1200x1000 with 1 Axes>"
      ]
     },
     "metadata": {},
     "output_type": "display_data"
    }
   ],
   "source": [
    "#plotting bar for the item name vs sales\n",
    "plt.figure(figsize=(12, 10))  \n",
    "\n",
    "(retail_df.groupby('ITEM_NAME')['Amount'].sum()/10000).plot(kind='bar', color='skyblue')\n",
    "\n",
    "plt.xlabel('Item Name')\n",
    "plt.ylabel('Total sales amount in 0000s')\n",
    "plt.title('Bar Chart of Item Name vs. total sales')\n",
    "\n",
    "plt.show()"
   ]
  },
  {
   "cell_type": "markdown",
   "metadata": {
    "id": "b3770793",
    "jp-MarkdownHeadingCollapsed": true
   },
   "source": [
    "## Calculating Frequency, Monetary and new Measures \n"
   ]
  },
  {
   "cell_type": "code",
   "execution_count": 13,
   "metadata": {
    "id": "95ea7eed"
   },
   "outputs": [],
   "source": [
    "from dateutil.relativedelta import relativedelta"
   ]
  },
  {
   "cell_type": "code",
   "execution_count": 14,
   "metadata": {},
   "outputs": [
    {
     "data": {
      "text/plain": [
       "count   13135.00\n",
       "mean       44.73\n",
       "std        50.10\n",
       "min         0.04\n",
       "25%         5.80\n",
       "50%        24.00\n",
       "75%        80.00\n",
       "max      1024.00\n",
       "Name: TotalArea, dtype: float64"
      ]
     },
     "execution_count": 14,
     "metadata": {},
     "output_type": "execute_result"
    }
   ],
   "source": [
    "#Checking spread of totalArea column\n",
    "retail_df['TotalArea'].describe()"
   ]
  },
  {
   "cell_type": "markdown",
   "metadata": {},
   "source": [
    "### Number of Unique Items: Creating a new measure  for calculating \"Customer Trust\"\n",
    "\n",
    "Idea is that we can determine how many different products is a single customer buying from us , which reflects the trust of the customer in our shop/platform"
   ]
  },
  {
   "cell_type": "code",
   "execution_count": 15,
   "metadata": {
    "scrolled": true
   },
   "outputs": [
    {
     "data": {
      "text/html": [
       "<div>\n",
       "<style scoped>\n",
       "    .dataframe tbody tr th:only-of-type {\n",
       "        vertical-align: middle;\n",
       "    }\n",
       "\n",
       "    .dataframe tbody tr th {\n",
       "        vertical-align: top;\n",
       "    }\n",
       "\n",
       "    .dataframe thead th {\n",
       "        text-align: right;\n",
       "    }\n",
       "</style>\n",
       "<table border=\"1\" class=\"dataframe\">\n",
       "  <thead>\n",
       "    <tr style=\"text-align: right;\">\n",
       "      <th></th>\n",
       "      <th>CustomerCode</th>\n",
       "      <th>uniqueItems</th>\n",
       "    </tr>\n",
       "  </thead>\n",
       "  <tbody>\n",
       "    <tr>\n",
       "      <th>0</th>\n",
       "      <td>A-11</td>\n",
       "      <td>23</td>\n",
       "    </tr>\n",
       "    <tr>\n",
       "      <th>1</th>\n",
       "      <td>A-6</td>\n",
       "      <td>25</td>\n",
       "    </tr>\n",
       "    <tr>\n",
       "      <th>2</th>\n",
       "      <td>A-9</td>\n",
       "      <td>504</td>\n",
       "    </tr>\n",
       "    <tr>\n",
       "      <th>3</th>\n",
       "      <td>B-2</td>\n",
       "      <td>44</td>\n",
       "    </tr>\n",
       "    <tr>\n",
       "      <th>4</th>\n",
       "      <td>B-3</td>\n",
       "      <td>72</td>\n",
       "    </tr>\n",
       "    <tr>\n",
       "      <th>5</th>\n",
       "      <td>B-4</td>\n",
       "      <td>75</td>\n",
       "    </tr>\n",
       "    <tr>\n",
       "      <th>6</th>\n",
       "      <td>C-1</td>\n",
       "      <td>472</td>\n",
       "    </tr>\n",
       "    <tr>\n",
       "      <th>7</th>\n",
       "      <td>C-2</td>\n",
       "      <td>37</td>\n",
       "    </tr>\n",
       "    <tr>\n",
       "      <th>8</th>\n",
       "      <td>C-3</td>\n",
       "      <td>85</td>\n",
       "    </tr>\n",
       "    <tr>\n",
       "      <th>9</th>\n",
       "      <td>CC</td>\n",
       "      <td>179</td>\n",
       "    </tr>\n",
       "  </tbody>\n",
       "</table>\n",
       "</div>"
      ],
      "text/plain": [
       "  CustomerCode  uniqueItems\n",
       "0         A-11           23\n",
       "1          A-6           25\n",
       "2          A-9          504\n",
       "3          B-2           44\n",
       "4          B-3           72\n",
       "5          B-4           75\n",
       "6          C-1          472\n",
       "7          C-2           37\n",
       "8          C-3           85\n",
       "9           CC          179"
      ]
     },
     "execution_count": 15,
     "metadata": {},
     "output_type": "execute_result"
    }
   ],
   "source": [
    "nitems_df = retail_df.groupby([ 'CustomerCode'])['Item_Id'].nunique().reset_index() \n",
    "nitems_df.columns = ['CustomerCode', 'uniqueItems']\n",
    "nitems_df.head(10)"
   ]
  },
  {
   "cell_type": "markdown",
   "metadata": {},
   "source": [
    "### Frequency dataframe\n"
   ]
  },
  {
   "cell_type": "code",
   "execution_count": 16,
   "metadata": {
    "id": "16285022"
   },
   "outputs": [
    {
     "data": {
      "text/html": [
       "<div>\n",
       "<style scoped>\n",
       "    .dataframe tbody tr th:only-of-type {\n",
       "        vertical-align: middle;\n",
       "    }\n",
       "\n",
       "    .dataframe tbody tr th {\n",
       "        vertical-align: top;\n",
       "    }\n",
       "\n",
       "    .dataframe thead th {\n",
       "        text-align: right;\n",
       "    }\n",
       "</style>\n",
       "<table border=\"1\" class=\"dataframe\">\n",
       "  <thead>\n",
       "    <tr style=\"text-align: right;\">\n",
       "      <th></th>\n",
       "      <th>CustomerCode</th>\n",
       "      <th>frequency</th>\n",
       "    </tr>\n",
       "  </thead>\n",
       "  <tbody>\n",
       "    <tr>\n",
       "      <th>0</th>\n",
       "      <td>A-11</td>\n",
       "      <td>40</td>\n",
       "    </tr>\n",
       "    <tr>\n",
       "      <th>1</th>\n",
       "      <td>A-6</td>\n",
       "      <td>25</td>\n",
       "    </tr>\n",
       "    <tr>\n",
       "      <th>2</th>\n",
       "      <td>A-9</td>\n",
       "      <td>1173</td>\n",
       "    </tr>\n",
       "    <tr>\n",
       "      <th>3</th>\n",
       "      <td>B-2</td>\n",
       "      <td>47</td>\n",
       "    </tr>\n",
       "    <tr>\n",
       "      <th>4</th>\n",
       "      <td>B-3</td>\n",
       "      <td>72</td>\n",
       "    </tr>\n",
       "    <tr>\n",
       "      <th>5</th>\n",
       "      <td>B-4</td>\n",
       "      <td>75</td>\n",
       "    </tr>\n",
       "    <tr>\n",
       "      <th>6</th>\n",
       "      <td>C-1</td>\n",
       "      <td>1058</td>\n",
       "    </tr>\n",
       "    <tr>\n",
       "      <th>7</th>\n",
       "      <td>C-2</td>\n",
       "      <td>232</td>\n",
       "    </tr>\n",
       "    <tr>\n",
       "      <th>8</th>\n",
       "      <td>C-3</td>\n",
       "      <td>87</td>\n",
       "    </tr>\n",
       "    <tr>\n",
       "      <th>9</th>\n",
       "      <td>CC</td>\n",
       "      <td>194</td>\n",
       "    </tr>\n",
       "  </tbody>\n",
       "</table>\n",
       "</div>"
      ],
      "text/plain": [
       "  CustomerCode  frequency\n",
       "0         A-11         40\n",
       "1          A-6         25\n",
       "2          A-9       1173\n",
       "3          B-2         47\n",
       "4          B-3         72\n",
       "5          B-4         75\n",
       "6          C-1       1058\n",
       "7          C-2        232\n",
       "8          C-3         87\n",
       "9           CC        194"
      ]
     },
     "execution_count": 16,
     "metadata": {},
     "output_type": "execute_result"
    }
   ],
   "source": [
    "frequency_df = retail_df.groupby(['CustomerCode'])['OrderiD'].count().reset_index()\n",
    "frequency_df.columns = ['CustomerCode', 'frequency']\n",
    "frequency_df.head(10)"
   ]
  },
  {
   "cell_type": "markdown",
   "metadata": {},
   "source": [
    "### Monetary dataframe -> mvalue"
   ]
  },
  {
   "cell_type": "code",
   "execution_count": 17,
   "metadata": {
    "colab": {
     "base_uri": "https://localhost:8080/",
     "height": 424
    },
    "id": "0044b1e2",
    "outputId": "6a18a26a-946e-42fc-fb41-4d0efbddfa57",
    "scrolled": true
   },
   "outputs": [
    {
     "data": {
      "text/html": [
       "<div>\n",
       "<style scoped>\n",
       "    .dataframe tbody tr th:only-of-type {\n",
       "        vertical-align: middle;\n",
       "    }\n",
       "\n",
       "    .dataframe tbody tr th {\n",
       "        vertical-align: top;\n",
       "    }\n",
       "\n",
       "    .dataframe thead th {\n",
       "        text-align: right;\n",
       "    }\n",
       "</style>\n",
       "<table border=\"1\" class=\"dataframe\">\n",
       "  <thead>\n",
       "    <tr style=\"text-align: right;\">\n",
       "      <th></th>\n",
       "      <th>CustomerCode</th>\n",
       "      <th>mvalue</th>\n",
       "    </tr>\n",
       "  </thead>\n",
       "  <tbody>\n",
       "    <tr>\n",
       "      <th>0</th>\n",
       "      <td>A-11</td>\n",
       "      <td>185404.10</td>\n",
       "    </tr>\n",
       "    <tr>\n",
       "      <th>1</th>\n",
       "      <td>A-6</td>\n",
       "      <td>6247.46</td>\n",
       "    </tr>\n",
       "    <tr>\n",
       "      <th>2</th>\n",
       "      <td>A-9</td>\n",
       "      <td>1592079.79</td>\n",
       "    </tr>\n",
       "    <tr>\n",
       "      <th>3</th>\n",
       "      <td>B-2</td>\n",
       "      <td>14811.16</td>\n",
       "    </tr>\n",
       "    <tr>\n",
       "      <th>4</th>\n",
       "      <td>B-3</td>\n",
       "      <td>58626.86</td>\n",
       "    </tr>\n",
       "    <tr>\n",
       "      <th>5</th>\n",
       "      <td>B-4</td>\n",
       "      <td>26242.50</td>\n",
       "    </tr>\n",
       "    <tr>\n",
       "      <th>6</th>\n",
       "      <td>C-1</td>\n",
       "      <td>567620.72</td>\n",
       "    </tr>\n",
       "    <tr>\n",
       "      <th>7</th>\n",
       "      <td>C-2</td>\n",
       "      <td>1557123.00</td>\n",
       "    </tr>\n",
       "    <tr>\n",
       "      <th>8</th>\n",
       "      <td>C-3</td>\n",
       "      <td>99062.35</td>\n",
       "    </tr>\n",
       "    <tr>\n",
       "      <th>9</th>\n",
       "      <td>CC</td>\n",
       "      <td>147574.00</td>\n",
       "    </tr>\n",
       "  </tbody>\n",
       "</table>\n",
       "</div>"
      ],
      "text/plain": [
       "  CustomerCode     mvalue\n",
       "0         A-11  185404.10\n",
       "1          A-6    6247.46\n",
       "2          A-9 1592079.79\n",
       "3          B-2   14811.16\n",
       "4          B-3   58626.86\n",
       "5          B-4   26242.50\n",
       "6          C-1  567620.72\n",
       "7          C-2 1557123.00\n",
       "8          C-3   99062.35\n",
       "9           CC  147574.00"
      ]
     },
     "execution_count": 17,
     "metadata": {},
     "output_type": "execute_result"
    }
   ],
   "source": [
    "mvalue_df = retail_df.groupby(['CustomerCode'])['Amount'].sum().reset_index()\n",
    "mvalue_df.columns = ['CustomerCode', 'mvalue']\n",
    "mvalue_df.head(10)"
   ]
  },
  {
   "cell_type": "markdown",
   "metadata": {},
   "source": [
    "### Merging all the 4 measures , frequency, Monetary, Trust and variety- into RFM dataframe"
   ]
  },
  {
   "cell_type": "code",
   "execution_count": 18,
   "metadata": {
    "id": "98cdffa7"
   },
   "outputs": [],
   "source": [
    "rfm_df = frequency_df.merge(mvalue_df, \n",
    "                            on = 'CustomerCode').merge(nitems_df, on = 'CustomerCode')"
   ]
  },
  {
   "cell_type": "code",
   "execution_count": 19,
   "metadata": {
    "colab": {
     "base_uri": "https://localhost:8080/",
     "height": 424
    },
    "id": "985ae840",
    "outputId": "792d5c17-c956-4cb8-a39e-c305a3417a94",
    "scrolled": true
   },
   "outputs": [
    {
     "data": {
      "text/html": [
       "<div>\n",
       "<style scoped>\n",
       "    .dataframe tbody tr th:only-of-type {\n",
       "        vertical-align: middle;\n",
       "    }\n",
       "\n",
       "    .dataframe tbody tr th {\n",
       "        vertical-align: top;\n",
       "    }\n",
       "\n",
       "    .dataframe thead th {\n",
       "        text-align: right;\n",
       "    }\n",
       "</style>\n",
       "<table border=\"1\" class=\"dataframe\">\n",
       "  <thead>\n",
       "    <tr style=\"text-align: right;\">\n",
       "      <th></th>\n",
       "      <th>CustomerCode</th>\n",
       "      <th>frequency</th>\n",
       "      <th>mvalue</th>\n",
       "      <th>uniqueItems</th>\n",
       "    </tr>\n",
       "  </thead>\n",
       "  <tbody>\n",
       "    <tr>\n",
       "      <th>0</th>\n",
       "      <td>A-11</td>\n",
       "      <td>40</td>\n",
       "      <td>185404.10</td>\n",
       "      <td>23</td>\n",
       "    </tr>\n",
       "    <tr>\n",
       "      <th>1</th>\n",
       "      <td>A-6</td>\n",
       "      <td>25</td>\n",
       "      <td>6247.46</td>\n",
       "      <td>25</td>\n",
       "    </tr>\n",
       "    <tr>\n",
       "      <th>2</th>\n",
       "      <td>A-9</td>\n",
       "      <td>1173</td>\n",
       "      <td>1592079.79</td>\n",
       "      <td>504</td>\n",
       "    </tr>\n",
       "    <tr>\n",
       "      <th>3</th>\n",
       "      <td>B-2</td>\n",
       "      <td>47</td>\n",
       "      <td>14811.16</td>\n",
       "      <td>44</td>\n",
       "    </tr>\n",
       "    <tr>\n",
       "      <th>4</th>\n",
       "      <td>B-3</td>\n",
       "      <td>72</td>\n",
       "      <td>58626.86</td>\n",
       "      <td>72</td>\n",
       "    </tr>\n",
       "    <tr>\n",
       "      <th>5</th>\n",
       "      <td>B-4</td>\n",
       "      <td>75</td>\n",
       "      <td>26242.50</td>\n",
       "      <td>75</td>\n",
       "    </tr>\n",
       "    <tr>\n",
       "      <th>6</th>\n",
       "      <td>C-1</td>\n",
       "      <td>1058</td>\n",
       "      <td>567620.72</td>\n",
       "      <td>472</td>\n",
       "    </tr>\n",
       "    <tr>\n",
       "      <th>7</th>\n",
       "      <td>C-2</td>\n",
       "      <td>232</td>\n",
       "      <td>1557123.00</td>\n",
       "      <td>37</td>\n",
       "    </tr>\n",
       "    <tr>\n",
       "      <th>8</th>\n",
       "      <td>C-3</td>\n",
       "      <td>87</td>\n",
       "      <td>99062.35</td>\n",
       "      <td>85</td>\n",
       "    </tr>\n",
       "    <tr>\n",
       "      <th>9</th>\n",
       "      <td>CC</td>\n",
       "      <td>194</td>\n",
       "      <td>147574.00</td>\n",
       "      <td>179</td>\n",
       "    </tr>\n",
       "  </tbody>\n",
       "</table>\n",
       "</div>"
      ],
      "text/plain": [
       "  CustomerCode  frequency     mvalue  uniqueItems\n",
       "0         A-11         40  185404.10           23\n",
       "1          A-6         25    6247.46           25\n",
       "2          A-9       1173 1592079.79          504\n",
       "3          B-2         47   14811.16           44\n",
       "4          B-3         72   58626.86           72\n",
       "5          B-4         75   26242.50           75\n",
       "6          C-1       1058  567620.72          472\n",
       "7          C-2        232 1557123.00           37\n",
       "8          C-3         87   99062.35           85\n",
       "9           CC        194  147574.00          179"
      ]
     },
     "execution_count": 19,
     "metadata": {},
     "output_type": "execute_result"
    }
   ],
   "source": [
    "rfm_df.head(10)"
   ]
  },
  {
   "cell_type": "markdown",
   "metadata": {
    "jp-MarkdownHeadingCollapsed": true
   },
   "source": [
    "## Exploring the measures and relationships "
   ]
  },
  {
   "cell_type": "markdown",
   "metadata": {},
   "source": [
    "### Scatter for frequency vs monetary"
   ]
  },
  {
   "cell_type": "code",
   "execution_count": 20,
   "metadata": {
    "colab": {
     "base_uri": "https://localhost:8080/",
     "height": 449
    },
    "id": "e1dc03ce",
    "outputId": "e99b31a8-a005-4769-e661-2d019f5c1058"
   },
   "outputs": [
    {
     "data": {
      "image/png": "[encoded data removed]",
      "text/plain": [
       "<Figure size 640x480 with 1 Axes>"
      ]
     },
     "metadata": {},
     "output_type": "display_data"
    }
   ],
   "source": [
    "sn.scatterplot(data = rfm_df,\n",
    "               x = 'frequency',\n",
    "               y = 'mvalue');"
   ]
  },
  {
   "cell_type": "markdown",
   "metadata": {},
   "source": [
    "### Describing all 4 measures\n",
    "\n",
    "this would help in binning for low an dhigh values"
   ]
  },
  {
   "cell_type": "code",
   "execution_count": 21,
   "metadata": {
    "colab": {
     "base_uri": "https://localhost:8080/",
     "height": 335
    },
    "id": "c3df256c",
    "outputId": "b9efaea9-4cc2-4fb5-8b3a-5bdc6cd7eaf3"
   },
   "outputs": [
    {
     "data": {
      "text/plain": [
       "count     45.00\n",
       "mean     291.89\n",
       "std      494.22\n",
       "min        1.00\n",
       "25%       30.00\n",
       "50%       75.00\n",
       "75%      273.00\n",
       "max     2380.00\n",
       "Name: frequency, dtype: float64"
      ]
     },
     "execution_count": 21,
     "metadata": {},
     "output_type": "execute_result"
    }
   ],
   "source": [
    "rfm_df['frequency'].describe()"
   ]
  },
  {
   "cell_type": "code",
   "execution_count": 22,
   "metadata": {},
   "outputs": [],
   "source": [
    "np.set_printoptions(suppress=True)"
   ]
  },
  {
   "cell_type": "code",
   "execution_count": 23,
   "metadata": {},
   "outputs": [
    {
     "data": {
      "text/plain": [
       "array([   1.  ,   44.08,  193.04, 2380.  ])"
      ]
     },
     "execution_count": 23,
     "metadata": {},
     "output_type": "execute_result"
    }
   ],
   "source": [
    "percentiles = [0, 33, 66, 100]\n",
    "freq_cut_points = np.percentile(rfm_df['frequency'], percentiles)\n",
    "freq_cut_points"
   ]
  },
  {
   "cell_type": "code",
   "execution_count": 24,
   "metadata": {},
   "outputs": [
    {
     "data": {
      "text/plain": [
       "count         45.00\n",
       "mean      698209.95\n",
       "std      1808976.96\n",
       "min          328.88\n",
       "25%        39701.24\n",
       "50%       116778.30\n",
       "75%       426626.05\n",
       "max     11341052.51\n",
       "Name: mvalue, dtype: float64"
      ]
     },
     "execution_count": 24,
     "metadata": {},
     "output_type": "execute_result"
    }
   ],
   "source": [
    "rfm_df['mvalue'].describe()"
   ]
  },
  {
   "cell_type": "code",
   "execution_count": 25,
   "metadata": {
    "colab": {
     "base_uri": "https://localhost:8080/",
     "height": 335
    },
    "id": "9f9b07c6",
    "outputId": "4122de16-9c75-47e6-b1ec-663052b94d4f"
   },
   "outputs": [
    {
     "data": {
      "text/plain": [
       "array([     328.8752 ,    57722.4802 ,   328528.92655, 11341052.51334])"
      ]
     },
     "execution_count": 25,
     "metadata": {},
     "output_type": "execute_result"
    }
   ],
   "source": [
    "percentiles = [0, 33, 66, 100]\n",
    "mval_cut_points = np.percentile(rfm_df['mvalue'], percentiles)\n",
    "mval_cut_points"
   ]
  },
  {
   "cell_type": "code",
   "execution_count": 26,
   "metadata": {},
   "outputs": [
    {
     "data": {
      "text/plain": [
       "count    45.00\n",
       "mean    132.93\n",
       "std     172.51\n",
       "min       1.00\n",
       "25%      18.00\n",
       "50%      72.00\n",
       "75%     168.00\n",
       "max     774.00\n",
       "Name: uniqueItems, dtype: float64"
      ]
     },
     "execution_count": 26,
     "metadata": {},
     "output_type": "execute_result"
    }
   ],
   "source": [
    "rfm_df['uniqueItems'].describe()"
   ]
  },
  {
   "cell_type": "code",
   "execution_count": 27,
   "metadata": {},
   "outputs": [
    {
     "data": {
      "text/plain": [
       "array([  1.  ,  29.  , 132.28, 774.  ])"
      ]
     },
     "execution_count": 27,
     "metadata": {},
     "output_type": "execute_result"
    }
   ],
   "source": [
    "percentiles = [0, 33, 66, 100]\n",
    "nunique_cut_points = np.percentile(rfm_df['uniqueItems'], percentiles)\n",
    "nunique_cut_points"
   ]
  },
  {
   "cell_type": "markdown",
   "metadata": {},
   "source": [
    "### Binning all 4 measures into 'High', 'medium' , 'low' "
   ]
  },
  {
   "cell_type": "code",
   "execution_count": 28,
   "metadata": {
    "id": "d38358e6"
   },
   "outputs": [],
   "source": [
    "rfm_df['f_bin'] = pd.cut( rfm_df['frequency'], \n",
    "                         bins = freq_cut_points, \n",
    "                         labels = ['Low', 'Medium', 'High'])\n",
    "rfm_df['m_bin'] = pd.cut( rfm_df['mvalue'], \n",
    "                         bins = mval_cut_points, \\\n",
    "                         labels =['Low', 'Medium','High'])\n",
    "rfm_df['u_bin'] = pd.cut( rfm_df['uniqueItems'],\n",
    "                               bins = nunique_cut_points, \n",
    "                               labels =['Low', 'Medium', 'High'])"
   ]
  },
  {
   "cell_type": "code",
   "execution_count": 29,
   "metadata": {
    "colab": {
     "base_uri": "https://localhost:8080/",
     "height": 424
    },
    "id": "ddc1b3db",
    "outputId": "b09ebbaa-5368-4938-87c3-22344e14326b",
    "scrolled": true
   },
   "outputs": [
    {
     "data": {
      "text/html": [
       "<div>\n",
       "<style scoped>\n",
       "    .dataframe tbody tr th:only-of-type {\n",
       "        vertical-align: middle;\n",
       "    }\n",
       "\n",
       "    .dataframe tbody tr th {\n",
       "        vertical-align: top;\n",
       "    }\n",
       "\n",
       "    .dataframe thead th {\n",
       "        text-align: right;\n",
       "    }\n",
       "</style>\n",
       "<table border=\"1\" class=\"dataframe\">\n",
       "  <thead>\n",
       "    <tr style=\"text-align: right;\">\n",
       "      <th></th>\n",
       "      <th>CustomerCode</th>\n",
       "      <th>frequency</th>\n",
       "      <th>mvalue</th>\n",
       "      <th>uniqueItems</th>\n",
       "      <th>f_bin</th>\n",
       "      <th>m_bin</th>\n",
       "      <th>u_bin</th>\n",
       "    </tr>\n",
       "  </thead>\n",
       "  <tbody>\n",
       "    <tr>\n",
       "      <th>0</th>\n",
       "      <td>A-11</td>\n",
       "      <td>40</td>\n",
       "      <td>185404.10</td>\n",
       "      <td>23</td>\n",
       "      <td>Low</td>\n",
       "      <td>Medium</td>\n",
       "      <td>Low</td>\n",
       "    </tr>\n",
       "    <tr>\n",
       "      <th>1</th>\n",
       "      <td>A-6</td>\n",
       "      <td>25</td>\n",
       "      <td>6247.46</td>\n",
       "      <td>25</td>\n",
       "      <td>Low</td>\n",
       "      <td>Low</td>\n",
       "      <td>Low</td>\n",
       "    </tr>\n",
       "    <tr>\n",
       "      <th>2</th>\n",
       "      <td>A-9</td>\n",
       "      <td>1173</td>\n",
       "      <td>1592079.79</td>\n",
       "      <td>504</td>\n",
       "      <td>High</td>\n",
       "      <td>High</td>\n",
       "      <td>High</td>\n",
       "    </tr>\n",
       "    <tr>\n",
       "      <th>3</th>\n",
       "      <td>B-2</td>\n",
       "      <td>47</td>\n",
       "      <td>14811.16</td>\n",
       "      <td>44</td>\n",
       "      <td>Medium</td>\n",
       "      <td>Low</td>\n",
       "      <td>Medium</td>\n",
       "    </tr>\n",
       "    <tr>\n",
       "      <th>4</th>\n",
       "      <td>B-3</td>\n",
       "      <td>72</td>\n",
       "      <td>58626.86</td>\n",
       "      <td>72</td>\n",
       "      <td>Medium</td>\n",
       "      <td>Medium</td>\n",
       "      <td>Medium</td>\n",
       "    </tr>\n",
       "    <tr>\n",
       "      <th>5</th>\n",
       "      <td>B-4</td>\n",
       "      <td>75</td>\n",
       "      <td>26242.50</td>\n",
       "      <td>75</td>\n",
       "      <td>Medium</td>\n",
       "      <td>Low</td>\n",
       "      <td>Medium</td>\n",
       "    </tr>\n",
       "    <tr>\n",
       "      <th>6</th>\n",
       "      <td>C-1</td>\n",
       "      <td>1058</td>\n",
       "      <td>567620.72</td>\n",
       "      <td>472</td>\n",
       "      <td>High</td>\n",
       "      <td>High</td>\n",
       "      <td>High</td>\n",
       "    </tr>\n",
       "    <tr>\n",
       "      <th>7</th>\n",
       "      <td>C-2</td>\n",
       "      <td>232</td>\n",
       "      <td>1557123.00</td>\n",
       "      <td>37</td>\n",
       "      <td>High</td>\n",
       "      <td>High</td>\n",
       "      <td>Medium</td>\n",
       "    </tr>\n",
       "    <tr>\n",
       "      <th>8</th>\n",
       "      <td>C-3</td>\n",
       "      <td>87</td>\n",
       "      <td>99062.35</td>\n",
       "      <td>85</td>\n",
       "      <td>Medium</td>\n",
       "      <td>Medium</td>\n",
       "      <td>Medium</td>\n",
       "    </tr>\n",
       "    <tr>\n",
       "      <th>9</th>\n",
       "      <td>CC</td>\n",
       "      <td>194</td>\n",
       "      <td>147574.00</td>\n",
       "      <td>179</td>\n",
       "      <td>High</td>\n",
       "      <td>Medium</td>\n",
       "      <td>High</td>\n",
       "    </tr>\n",
       "    <tr>\n",
       "      <th>10</th>\n",
       "      <td>CTS</td>\n",
       "      <td>8</td>\n",
       "      <td>23800.00</td>\n",
       "      <td>8</td>\n",
       "      <td>Low</td>\n",
       "      <td>Low</td>\n",
       "      <td>Low</td>\n",
       "    </tr>\n",
       "    <tr>\n",
       "      <th>11</th>\n",
       "      <td>DR</td>\n",
       "      <td>46</td>\n",
       "      <td>28648.12</td>\n",
       "      <td>46</td>\n",
       "      <td>Medium</td>\n",
       "      <td>Low</td>\n",
       "      <td>Medium</td>\n",
       "    </tr>\n",
       "    <tr>\n",
       "      <th>12</th>\n",
       "      <td>E-2</td>\n",
       "      <td>273</td>\n",
       "      <td>116778.30</td>\n",
       "      <td>263</td>\n",
       "      <td>High</td>\n",
       "      <td>Medium</td>\n",
       "      <td>High</td>\n",
       "    </tr>\n",
       "    <tr>\n",
       "      <th>13</th>\n",
       "      <td>F-1</td>\n",
       "      <td>42</td>\n",
       "      <td>116838.20</td>\n",
       "      <td>17</td>\n",
       "      <td>Low</td>\n",
       "      <td>Medium</td>\n",
       "      <td>Low</td>\n",
       "    </tr>\n",
       "    <tr>\n",
       "      <th>14</th>\n",
       "      <td>F-6</td>\n",
       "      <td>1</td>\n",
       "      <td>16800.00</td>\n",
       "      <td>1</td>\n",
       "      <td>NaN</td>\n",
       "      <td>Low</td>\n",
       "      <td>NaN</td>\n",
       "    </tr>\n",
       "    <tr>\n",
       "      <th>15</th>\n",
       "      <td>G-1</td>\n",
       "      <td>56</td>\n",
       "      <td>39701.24</td>\n",
       "      <td>56</td>\n",
       "      <td>Medium</td>\n",
       "      <td>Low</td>\n",
       "      <td>Medium</td>\n",
       "    </tr>\n",
       "    <tr>\n",
       "      <th>16</th>\n",
       "      <td>G-4</td>\n",
       "      <td>7</td>\n",
       "      <td>328.88</td>\n",
       "      <td>7</td>\n",
       "      <td>Low</td>\n",
       "      <td>NaN</td>\n",
       "      <td>Low</td>\n",
       "    </tr>\n",
       "    <tr>\n",
       "      <th>17</th>\n",
       "      <td>H-1</td>\n",
       "      <td>193</td>\n",
       "      <td>65383.79</td>\n",
       "      <td>139</td>\n",
       "      <td>Medium</td>\n",
       "      <td>Medium</td>\n",
       "      <td>High</td>\n",
       "    </tr>\n",
       "    <tr>\n",
       "      <th>18</th>\n",
       "      <td>H-2</td>\n",
       "      <td>476</td>\n",
       "      <td>3804801.30</td>\n",
       "      <td>312</td>\n",
       "      <td>High</td>\n",
       "      <td>High</td>\n",
       "      <td>High</td>\n",
       "    </tr>\n",
       "    <tr>\n",
       "      <th>19</th>\n",
       "      <td>I-2</td>\n",
       "      <td>436</td>\n",
       "      <td>426626.05</td>\n",
       "      <td>380</td>\n",
       "      <td>High</td>\n",
       "      <td>High</td>\n",
       "      <td>High</td>\n",
       "    </tr>\n",
       "    <tr>\n",
       "      <th>20</th>\n",
       "      <td>JL</td>\n",
       "      <td>1073</td>\n",
       "      <td>1231578.28</td>\n",
       "      <td>145</td>\n",
       "      <td>High</td>\n",
       "      <td>High</td>\n",
       "      <td>High</td>\n",
       "    </tr>\n",
       "    <tr>\n",
       "      <th>21</th>\n",
       "      <td>K-2</td>\n",
       "      <td>160</td>\n",
       "      <td>59877.27</td>\n",
       "      <td>118</td>\n",
       "      <td>Medium</td>\n",
       "      <td>Medium</td>\n",
       "      <td>Medium</td>\n",
       "    </tr>\n",
       "    <tr>\n",
       "      <th>22</th>\n",
       "      <td>K-3</td>\n",
       "      <td>2</td>\n",
       "      <td>410.00</td>\n",
       "      <td>2</td>\n",
       "      <td>Low</td>\n",
       "      <td>Low</td>\n",
       "      <td>Low</td>\n",
       "    </tr>\n",
       "    <tr>\n",
       "      <th>23</th>\n",
       "      <td>L-2</td>\n",
       "      <td>22</td>\n",
       "      <td>21503.49</td>\n",
       "      <td>13</td>\n",
       "      <td>Low</td>\n",
       "      <td>Low</td>\n",
       "      <td>Low</td>\n",
       "    </tr>\n",
       "    <tr>\n",
       "      <th>24</th>\n",
       "      <td>L-3</td>\n",
       "      <td>28</td>\n",
       "      <td>90756.75</td>\n",
       "      <td>14</td>\n",
       "      <td>Low</td>\n",
       "      <td>Medium</td>\n",
       "      <td>Low</td>\n",
       "    </tr>\n",
       "    <tr>\n",
       "      <th>25</th>\n",
       "      <td>L-4</td>\n",
       "      <td>2</td>\n",
       "      <td>44234.00</td>\n",
       "      <td>2</td>\n",
       "      <td>Low</td>\n",
       "      <td>Low</td>\n",
       "      <td>Low</td>\n",
       "    </tr>\n",
       "    <tr>\n",
       "      <th>26</th>\n",
       "      <td>L-5</td>\n",
       "      <td>14</td>\n",
       "      <td>358890.00</td>\n",
       "      <td>5</td>\n",
       "      <td>Low</td>\n",
       "      <td>High</td>\n",
       "      <td>Low</td>\n",
       "    </tr>\n",
       "    <tr>\n",
       "      <th>27</th>\n",
       "      <td>M-1</td>\n",
       "      <td>2380</td>\n",
       "      <td>1959794.03</td>\n",
       "      <td>774</td>\n",
       "      <td>High</td>\n",
       "      <td>High</td>\n",
       "      <td>High</td>\n",
       "    </tr>\n",
       "    <tr>\n",
       "      <th>28</th>\n",
       "      <td>M-2</td>\n",
       "      <td>282</td>\n",
       "      <td>334245.22</td>\n",
       "      <td>131</td>\n",
       "      <td>High</td>\n",
       "      <td>High</td>\n",
       "      <td>Medium</td>\n",
       "    </tr>\n",
       "    <tr>\n",
       "      <th>29</th>\n",
       "      <td>N-1</td>\n",
       "      <td>184</td>\n",
       "      <td>949375.68</td>\n",
       "      <td>132</td>\n",
       "      <td>Medium</td>\n",
       "      <td>High</td>\n",
       "      <td>Medium</td>\n",
       "    </tr>\n",
       "    <tr>\n",
       "      <th>30</th>\n",
       "      <td>P-4</td>\n",
       "      <td>50</td>\n",
       "      <td>292544.45</td>\n",
       "      <td>29</td>\n",
       "      <td>Medium</td>\n",
       "      <td>Medium</td>\n",
       "      <td>Low</td>\n",
       "    </tr>\n",
       "    <tr>\n",
       "      <th>31</th>\n",
       "      <td>P-5</td>\n",
       "      <td>1862</td>\n",
       "      <td>3066518.23</td>\n",
       "      <td>583</td>\n",
       "      <td>High</td>\n",
       "      <td>High</td>\n",
       "      <td>High</td>\n",
       "    </tr>\n",
       "    <tr>\n",
       "      <th>32</th>\n",
       "      <td>PC</td>\n",
       "      <td>152</td>\n",
       "      <td>227949.55</td>\n",
       "      <td>82</td>\n",
       "      <td>Medium</td>\n",
       "      <td>Medium</td>\n",
       "      <td>Medium</td>\n",
       "    </tr>\n",
       "    <tr>\n",
       "      <th>33</th>\n",
       "      <td>PD</td>\n",
       "      <td>190</td>\n",
       "      <td>404528.95</td>\n",
       "      <td>149</td>\n",
       "      <td>Medium</td>\n",
       "      <td>High</td>\n",
       "      <td>High</td>\n",
       "    </tr>\n",
       "    <tr>\n",
       "      <th>34</th>\n",
       "      <td>R-4</td>\n",
       "      <td>10</td>\n",
       "      <td>10108.80</td>\n",
       "      <td>10</td>\n",
       "      <td>Low</td>\n",
       "      <td>Low</td>\n",
       "      <td>Low</td>\n",
       "    </tr>\n",
       "    <tr>\n",
       "      <th>35</th>\n",
       "      <td>RC</td>\n",
       "      <td>255</td>\n",
       "      <td>328290.75</td>\n",
       "      <td>174</td>\n",
       "      <td>High</td>\n",
       "      <td>Medium</td>\n",
       "      <td>High</td>\n",
       "    </tr>\n",
       "    <tr>\n",
       "      <th>36</th>\n",
       "      <td>S-2</td>\n",
       "      <td>168</td>\n",
       "      <td>56742.73</td>\n",
       "      <td>168</td>\n",
       "      <td>Medium</td>\n",
       "      <td>Low</td>\n",
       "      <td>High</td>\n",
       "    </tr>\n",
       "    <tr>\n",
       "      <th>37</th>\n",
       "      <td>S-3</td>\n",
       "      <td>30</td>\n",
       "      <td>61368.00</td>\n",
       "      <td>18</td>\n",
       "      <td>Low</td>\n",
       "      <td>Medium</td>\n",
       "      <td>Low</td>\n",
       "    </tr>\n",
       "    <tr>\n",
       "      <th>38</th>\n",
       "      <td>T-2</td>\n",
       "      <td>551</td>\n",
       "      <td>563098.85</td>\n",
       "      <td>222</td>\n",
       "      <td>High</td>\n",
       "      <td>High</td>\n",
       "      <td>High</td>\n",
       "    </tr>\n",
       "    <tr>\n",
       "      <th>39</th>\n",
       "      <td>T-4</td>\n",
       "      <td>57</td>\n",
       "      <td>238241.00</td>\n",
       "      <td>44</td>\n",
       "      <td>Medium</td>\n",
       "      <td>Medium</td>\n",
       "      <td>Medium</td>\n",
       "    </tr>\n",
       "    <tr>\n",
       "      <th>40</th>\n",
       "      <td>T-5</td>\n",
       "      <td>418</td>\n",
       "      <td>733832.95</td>\n",
       "      <td>285</td>\n",
       "      <td>High</td>\n",
       "      <td>High</td>\n",
       "      <td>High</td>\n",
       "    </tr>\n",
       "    <tr>\n",
       "      <th>41</th>\n",
       "      <td>T-6</td>\n",
       "      <td>40</td>\n",
       "      <td>101488.00</td>\n",
       "      <td>32</td>\n",
       "      <td>Low</td>\n",
       "      <td>Medium</td>\n",
       "      <td>Medium</td>\n",
       "    </tr>\n",
       "    <tr>\n",
       "      <th>42</th>\n",
       "      <td>T-9</td>\n",
       "      <td>2</td>\n",
       "      <td>758.97</td>\n",
       "      <td>2</td>\n",
       "      <td>Low</td>\n",
       "      <td>Low</td>\n",
       "      <td>Low</td>\n",
       "    </tr>\n",
       "    <tr>\n",
       "      <th>43</th>\n",
       "      <td>TGT</td>\n",
       "      <td>609</td>\n",
       "      <td>11341052.51</td>\n",
       "      <td>74</td>\n",
       "      <td>High</td>\n",
       "      <td>High</td>\n",
       "      <td>Medium</td>\n",
       "    </tr>\n",
       "    <tr>\n",
       "      <th>44</th>\n",
       "      <td>V-1</td>\n",
       "      <td>53</td>\n",
       "      <td>47761.28</td>\n",
       "      <td>29</td>\n",
       "      <td>Medium</td>\n",
       "      <td>Low</td>\n",
       "      <td>Low</td>\n",
       "    </tr>\n",
       "  </tbody>\n",
       "</table>\n",
       "</div>"
      ],
      "text/plain": [
       "   CustomerCode  frequency      mvalue  uniqueItems   f_bin   m_bin   u_bin\n",
       "0          A-11         40   185404.10           23     Low  Medium     Low\n",
       "1           A-6         25     6247.46           25     Low     Low     Low\n",
       "2           A-9       1173  1592079.79          504    High    High    High\n",
       "3           B-2         47    14811.16           44  Medium     Low  Medium\n",
       "4           B-3         72    58626.86           72  Medium  Medium  Medium\n",
       "5           B-4         75    26242.50           75  Medium     Low  Medium\n",
       "6           C-1       1058   567620.72          472    High    High    High\n",
       "7           C-2        232  1557123.00           37    High    High  Medium\n",
       "8           C-3         87    99062.35           85  Medium  Medium  Medium\n",
       "9            CC        194   147574.00          179    High  Medium    High\n",
       "10          CTS          8    23800.00            8     Low     Low     Low\n",
       "11           DR         46    28648.12           46  Medium     Low  Medium\n",
       "12          E-2        273   116778.30          263    High  Medium    High\n",
       "13          F-1         42   116838.20           17     Low  Medium     Low\n",
       "14          F-6          1    16800.00            1     NaN     Low     NaN\n",
       "15          G-1         56    39701.24           56  Medium     Low  Medium\n",
       "16          G-4          7      328.88            7     Low     NaN     Low\n",
       "17          H-1        193    65383.79          139  Medium  Medium    High\n",
       "18          H-2        476  3804801.30          312    High    High    High\n",
       "19          I-2        436   426626.05          380    High    High    High\n",
       "20           JL       1073  1231578.28          145    High    High    High\n",
       "21          K-2        160    59877.27          118  Medium  Medium  Medium\n",
       "22          K-3          2      410.00            2     Low     Low     Low\n",
       "23          L-2         22    21503.49           13     Low     Low     Low\n",
       "24          L-3         28    90756.75           14     Low  Medium     Low\n",
       "25          L-4          2    44234.00            2     Low     Low     Low\n",
       "26          L-5         14   358890.00            5     Low    High     Low\n",
       "27          M-1       2380  1959794.03          774    High    High    High\n",
       "28          M-2        282   334245.22          131    High    High  Medium\n",
       "29          N-1        184   949375.68          132  Medium    High  Medium\n",
       "30          P-4         50   292544.45           29  Medium  Medium     Low\n",
       "31          P-5       1862  3066518.23          583    High    High    High\n",
       "32           PC        152   227949.55           82  Medium  Medium  Medium\n",
       "33           PD        190   404528.95          149  Medium    High    High\n",
       "34          R-4         10    10108.80           10     Low     Low     Low\n",
       "35           RC        255   328290.75          174    High  Medium    High\n",
       "36          S-2        168    56742.73          168  Medium     Low    High\n",
       "37          S-3         30    61368.00           18     Low  Medium     Low\n",
       "38          T-2        551   563098.85          222    High    High    High\n",
       "39          T-4         57   238241.00           44  Medium  Medium  Medium\n",
       "40          T-5        418   733832.95          285    High    High    High\n",
       "41          T-6         40   101488.00           32     Low  Medium  Medium\n",
       "42          T-9          2      758.97            2     Low     Low     Low\n",
       "43          TGT        609 11341052.51           74    High    High  Medium\n",
       "44          V-1         53    47761.28           29  Medium     Low     Low"
      ]
     },
     "execution_count": 29,
     "metadata": {},
     "output_type": "execute_result"
    }
   ],
   "source": [
    "rfm_df\n"
   ]
  },
  {
   "cell_type": "markdown",
   "metadata": {},
   "source": [
    "### Creating Heatmap for Frequency and Monetary"
   ]
  },
  {
   "cell_type": "code",
   "execution_count": 30,
   "metadata": {
    "id": "72498e4b"
   },
   "outputs": [],
   "source": [
    "rfm_segments = pd.crosstab(rfm_df.m_bin,\n",
    "                           rfm_df.u_bin,\n",
    "                           normalize = \"all\")"
   ]
  },
  {
   "cell_type": "code",
   "execution_count": 31,
   "metadata": {
    "id": "69c3fd54"
   },
   "outputs": [
    {
     "data": {
      "text/html": [
       "<div>\n",
       "<style scoped>\n",
       "    .dataframe tbody tr th:only-of-type {\n",
       "        vertical-align: middle;\n",
       "    }\n",
       "\n",
       "    .dataframe tbody tr th {\n",
       "        vertical-align: top;\n",
       "    }\n",
       "\n",
       "    .dataframe thead th {\n",
       "        text-align: right;\n",
       "    }\n",
       "</style>\n",
       "<table border=\"1\" class=\"dataframe\">\n",
       "  <thead>\n",
       "    <tr style=\"text-align: right;\">\n",
       "      <th>u_bin</th>\n",
       "      <th>Low</th>\n",
       "      <th>Medium</th>\n",
       "      <th>High</th>\n",
       "    </tr>\n",
       "    <tr>\n",
       "      <th>m_bin</th>\n",
       "      <th></th>\n",
       "      <th></th>\n",
       "      <th></th>\n",
       "    </tr>\n",
       "  </thead>\n",
       "  <tbody>\n",
       "    <tr>\n",
       "      <th>High</th>\n",
       "      <td>0.02</td>\n",
       "      <td>0.09</td>\n",
       "      <td>0.23</td>\n",
       "    </tr>\n",
       "    <tr>\n",
       "      <th>Medium</th>\n",
       "      <td>0.12</td>\n",
       "      <td>0.14</td>\n",
       "      <td>0.09</td>\n",
       "    </tr>\n",
       "    <tr>\n",
       "      <th>Low</th>\n",
       "      <td>0.19</td>\n",
       "      <td>0.09</td>\n",
       "      <td>0.02</td>\n",
       "    </tr>\n",
       "  </tbody>\n",
       "</table>\n",
       "</div>"
      ],
      "text/plain": [
       "u_bin   Low  Medium  High\n",
       "m_bin                    \n",
       "High   0.02    0.09  0.23\n",
       "Medium 0.12    0.14  0.09\n",
       "Low    0.19    0.09  0.02"
      ]
     },
     "execution_count": 31,
     "metadata": {},
     "output_type": "execute_result"
    }
   ],
   "source": [
    "rfm_segments = rfm_segments.reindex(['High', \n",
    "                                     'Medium', \n",
    "                                     'Low'])\n",
    "rfm_segments"
   ]
  },
  {
   "cell_type": "code",
   "execution_count": 32,
   "metadata": {
    "colab": {
     "base_uri": "https://localhost:8080/",
     "height": 449
    },
    "id": "22ee23f8",
    "outputId": "bc2f2ea1-dbe5-4075-f270-94542b428463"
   },
   "outputs": [
    {
     "data": {
      "image/png": "[encoded data removed]",
      "text/plain": [
       "<Figure size 640x480 with 2 Axes>"
      ]
     },
     "metadata": {},
     "output_type": "display_data"
    }
   ],
   "source": [
    "#heatmap for frequency and monetary\n",
    "sn.heatmap(rfm_segments[['Low', 'Medium', 'High']],\n",
    "           annot = True,\n",
    "           fmt = \"0.3f\",\n",
    "           cmap = \"crest\");\n",
    "plt.xlabel(\"UniqueItems\")\n",
    "plt.ylabel(\"MValue\");"
   ]
  },
  {
   "cell_type": "markdown",
   "metadata": {},
   "source": [
    "### Checking KDE and boxplot plots for value distributions"
   ]
  },
  {
   "cell_type": "code",
   "execution_count": 33,
   "metadata": {
    "colab": {
     "base_uri": "https://localhost:8080/",
     "height": 449
    },
    "id": "2e5ab733",
    "outputId": "a9dde30c-b261-4a0d-f0e9-ef1abcb36410"
   },
   "outputs": [
    {
     "data": {
      "image/png": "[encoded data removed]",
      "text/plain": [
       "<Figure size 640x480 with 1 Axes>"
      ]
     },
     "metadata": {},
     "output_type": "display_data"
    }
   ],
   "source": [
    "sn.histplot(rfm_df.frequency);"
   ]
  },
  {
   "cell_type": "code",
   "execution_count": 34,
   "metadata": {
    "colab": {
     "base_uri": "https://localhost:8080/",
     "height": 411
    },
    "id": "624e8a43",
    "outputId": "28af12c5-1fda-4b99-849b-77c1cb34f28d"
   },
   "outputs": [
    {
     "data": {
      "image/png": "[encoded data removed]",
      "text/plain": [
       "<Figure size 640x480 with 1 Axes>"
      ]
     },
     "metadata": {},
     "output_type": "display_data"
    }
   ],
   "source": [
    "sn.kdeplot(np.log(rfm_df.frequency));"
   ]
  },
  {
   "cell_type": "code",
   "execution_count": 35,
   "metadata": {
    "colab": {
     "base_uri": "https://localhost:8080/",
     "height": 449
    },
    "id": "537064f2",
    "outputId": "98f03f9b-ee2e-43de-cb47-8bd2e117f3b1"
   },
   "outputs": [
    {
     "data": {
      "image/png": "[encoded data removed]",
      "text/plain": [
       "<Figure size 640x480 with 1 Axes>"
      ]
     },
     "metadata": {},
     "output_type": "display_data"
    }
   ],
   "source": [
    "sn.histplot(rfm_df.mvalue);"
   ]
  },
  {
   "cell_type": "code",
   "execution_count": 36,
   "metadata": {
    "colab": {
     "base_uri": "https://localhost:8080/",
     "height": 411
    },
    "id": "1e3311c4",
    "outputId": "183d8a50-79ed-4c55-b075-d9e71782f38e"
   },
   "outputs": [
    {
     "data": {
      "image/png": "[encoded data removed]",
      "text/plain": [
       "<Figure size 640x480 with 1 Axes>"
      ]
     },
     "metadata": {},
     "output_type": "display_data"
    }
   ],
   "source": [
    "sn.kdeplot(np.log(rfm_df.mvalue));"
   ]
  },
  {
   "cell_type": "code",
   "execution_count": 37,
   "metadata": {},
   "outputs": [
    {
     "data": {
      "image/png": "[encoded data removed]",
      "text/plain": [
       "<Figure size 640x480 with 1 Axes>"
      ]
     },
     "metadata": {},
     "output_type": "display_data"
    }
   ],
   "source": [
    "sn.histplot(rfm_df.uniqueItems);"
   ]
  },
  {
   "cell_type": "code",
   "execution_count": 38,
   "metadata": {},
   "outputs": [
    {
     "data": {
      "image/png": "[encoded data removed]",
      "text/plain": [
       "<Figure size 640x480 with 1 Axes>"
      ]
     },
     "metadata": {},
     "output_type": "display_data"
    }
   ],
   "source": [
    "sn.kdeplot(np.log(rfm_df.uniqueItems));"
   ]
  },
  {
   "cell_type": "markdown",
   "metadata": {
    "jp-MarkdownHeadingCollapsed": true
   },
   "source": [
    "## Clustering"
   ]
  },
  {
   "cell_type": "markdown",
   "metadata": {},
   "source": [
    "### Creating log computes, as the values are very sparse"
   ]
  },
  {
   "cell_type": "code",
   "execution_count": 39,
   "metadata": {
    "colab": {
     "base_uri": "https://localhost:8080/",
     "height": 335
    },
    "id": "4d19a4f7",
    "outputId": "98408946-24fb-4732-f6c6-e83e22826d70",
    "scrolled": true
   },
   "outputs": [
    {
     "data": {
      "text/plain": [
       "count     45.00\n",
       "mean     291.89\n",
       "std      494.22\n",
       "min        1.00\n",
       "25%       30.00\n",
       "50%       75.00\n",
       "75%      273.00\n",
       "max     2380.00\n",
       "Name: frequency, dtype: float64"
      ]
     },
     "execution_count": 39,
     "metadata": {},
     "output_type": "execute_result"
    }
   ],
   "source": [
    "rfm_df.frequency.describe()"
   ]
  },
  {
   "cell_type": "markdown",
   "metadata": {},
   "source": [
    "### Scaling the log columns to form clusters"
   ]
  },
  {
   "cell_type": "code",
   "execution_count": 40,
   "metadata": {},
   "outputs": [],
   "source": [
    "rfm_df['log_frequency'] = np.log(rfm_df['frequency'])\n",
    "rfm_df['log_mvalue'] = np.log(rfm_df['mvalue'])\n",
    "rfm_df['log_uniqueItems'] = np.log(rfm_df['uniqueItems'])"
   ]
  },
  {
   "cell_type": "code",
   "execution_count": 41,
   "metadata": {
    "id": "fc7f899a"
   },
   "outputs": [],
   "source": [
    "# #Using Min Max scaler to log columns\n",
    "# from sklearn.preprocessing import MinMaxScaler, StandardScaler\n",
    "\n",
    "# scaler = StandardScaler()\n",
    "# scaled_rfm = scaler.fit_transform( rfm_df[['frequency',\n",
    "#                                            'mvalue',\n",
    "#                                            'uniqueItems']] )"
   ]
  },
  {
   "cell_type": "code",
   "execution_count": 42,
   "metadata": {},
   "outputs": [],
   "source": [
    "# #Using Min Max scaler to log columns\n",
    "from sklearn.preprocessing import MinMaxScaler, StandardScaler\n",
    "\n",
    "scaler = StandardScaler()\n",
    "scaled_rfm = scaler.fit_transform( rfm_df[['log_frequency',\n",
    "                                           'log_mvalue',\n",
    "                                           'log_uniqueItems']] )"
   ]
  },
  {
   "cell_type": "code",
   "execution_count": 43,
   "metadata": {
    "colab": {
     "base_uri": "https://localhost:8080/"
    },
    "id": "ada39ab9",
    "outputId": "e092ffd2-e118-4d1c-de9a-662571bd7d95"
   },
   "outputs": [
    {
     "data": {
      "text/plain": [
       "array([[-0.3791498 ,  0.22228068, -0.48697482],\n",
       "       [-0.63238836, -1.3062135 , -0.43594503],\n",
       "       [ 1.44115823,  1.19169256,  1.40232857],\n",
       "       [-0.29225832, -0.91705007, -0.0899713 ],\n",
       "       [-0.06244959, -0.29678581,  0.21142577],\n",
       "       [-0.04045465, -0.65917275,  0.23640896],\n",
       "       [ 1.38556243,  0.72672703,  1.36218284],\n",
       "       [ 0.56798631,  1.18168343, -0.19601411],\n",
       "       [ 0.03951424, -0.06029742,  0.31300917],\n",
       "       [ 0.47160596,  0.11939652,  0.76878893]])"
      ]
     },
     "execution_count": 43,
     "metadata": {},
     "output_type": "execute_result"
    }
   ],
   "source": [
    "#checking scaled columns\n",
    "scaled_rfm[0:10]"
   ]
  },
  {
   "cell_type": "markdown",
   "metadata": {},
   "source": [
    "### K-Means Clustering"
   ]
  },
  {
   "cell_type": "code",
   "execution_count": 44,
   "metadata": {
    "id": "612b869c"
   },
   "outputs": [],
   "source": [
    "from sklearn.cluster import KMeans"
   ]
  },
  {
   "cell_type": "markdown",
   "metadata": {},
   "source": [
    "#### Elbow method"
   ]
  },
  {
   "cell_type": "code",
   "execution_count": 45,
   "metadata": {
    "colab": {
     "base_uri": "https://localhost:8080/",
     "height": 368
    },
    "id": "f4d700ee",
    "outputId": "6bafc2bc-f417-42d8-811a-ea1618108e08"
   },
   "outputs": [
    {
     "data": {
      "image/png": "[encoded data removed]",
      "text/plain": [
       "<Figure size 800x400 with 1 Axes>"
      ]
     },
     "metadata": {},
     "output_type": "display_data"
    }
   ],
   "source": [
    "#Running Elbow to check number of clusters\n",
    "cluster_range = range( 2, 10 )\n",
    "cluster_errors = []\n",
    "\n",
    "for num_clusters in cluster_range:\n",
    "  clusters = KMeans( num_clusters )\n",
    "  clusters.fit( scaled_rfm )\n",
    "  cluster_errors.append( clusters.inertia_ )\n",
    "\n",
    "plt.figure(figsize=(8,4))\n",
    "plt.plot( cluster_range, cluster_errors, marker = \"o\" );"
   ]
  },
  {
   "cell_type": "markdown",
   "metadata": {},
   "source": [
    "#### Silhouette score for number of cluesters 4,5,6,7\n",
    "\n",
    "We can see the K=5 is the best , no negative values, 0.3 score"
   ]
  },
  {
   "cell_type": "code",
   "execution_count": 46,
   "metadata": {},
   "outputs": [],
   "source": [
    "from yellowbrick.cluster import SilhouetteVisualizer"
   ]
  },
  {
   "cell_type": "code",
   "execution_count": 47,
   "metadata": {
    "colab": {
     "base_uri": "https://localhost:8080/",
     "height": 702
    },
    "id": "977fa80c",
    "outputId": "7c3c68dc-31fc-4a6c-f537-b860285a20bf"
   },
   "outputs": [
    {
     "data": {
      "image/png": "[encoded data removed]",
      "text/plain": [
       "<Figure size 1500x1000 with 4 Axes>"
      ]
     },
     "metadata": {},
     "output_type": "display_data"
    }
   ],
   "source": [
    "from yellowbrick.cluster import SilhouetteVisualizer\n",
    "\n",
    "fig, ax = plt.subplots(2, 2, figsize=(15,10))\n",
    "num_clusters = [3, 4, 5, 6]\n",
    "for i, k in enumerate(num_clusters):\n",
    "    km = KMeans(n_clusters=k)\n",
    "    q, mod = divmod(i, 2)\n",
    "    visualizer = SilhouetteVisualizer(km,\n",
    "                                      colors='yellowbrick',\n",
    "                                      ax=ax[q-1][mod])\n",
    "    visualizer.fit(scaled_rfm)"
   ]
  },
  {
   "cell_type": "markdown",
   "metadata": {},
   "source": [
    "#### Forming Clusters: Running K-Means with K=5"
   ]
  },
  {
   "cell_type": "code",
   "execution_count": 48,
   "metadata": {
    "id": "3c049913"
   },
   "outputs": [],
   "source": [
    "k = 6\n",
    "\n",
    "clusters = KMeans( k, random_state = 42 )\n",
    "clusters.fit( scaled_rfm )\n",
    "rfm_df[\"clusterid\"] = clusters.labels_"
   ]
  },
  {
   "cell_type": "code",
   "execution_count": 49,
   "metadata": {
    "scrolled": true
   },
   "outputs": [
    {
     "data": {
      "text/html": [
       "<div>\n",
       "<style scoped>\n",
       "    .dataframe tbody tr th:only-of-type {\n",
       "        vertical-align: middle;\n",
       "    }\n",
       "\n",
       "    .dataframe tbody tr th {\n",
       "        vertical-align: top;\n",
       "    }\n",
       "\n",
       "    .dataframe thead th {\n",
       "        text-align: right;\n",
       "    }\n",
       "</style>\n",
       "<table border=\"1\" class=\"dataframe\">\n",
       "  <thead>\n",
       "    <tr style=\"text-align: right;\">\n",
       "      <th></th>\n",
       "      <th>CustomerCode</th>\n",
       "      <th>frequency</th>\n",
       "      <th>mvalue</th>\n",
       "      <th>uniqueItems</th>\n",
       "      <th>f_bin</th>\n",
       "      <th>m_bin</th>\n",
       "      <th>u_bin</th>\n",
       "      <th>log_frequency</th>\n",
       "      <th>log_mvalue</th>\n",
       "      <th>log_uniqueItems</th>\n",
       "      <th>clusterid</th>\n",
       "    </tr>\n",
       "  </thead>\n",
       "  <tbody>\n",
       "    <tr>\n",
       "      <th>24</th>\n",
       "      <td>L-3</td>\n",
       "      <td>28</td>\n",
       "      <td>90756.75</td>\n",
       "      <td>14</td>\n",
       "      <td>Low</td>\n",
       "      <td>Medium</td>\n",
       "      <td>Low</td>\n",
       "      <td>3.33</td>\n",
       "      <td>11.42</td>\n",
       "      <td>2.64</td>\n",
       "      <td>0</td>\n",
       "    </tr>\n",
       "    <tr>\n",
       "      <th>0</th>\n",
       "      <td>A-11</td>\n",
       "      <td>40</td>\n",
       "      <td>185404.10</td>\n",
       "      <td>23</td>\n",
       "      <td>Low</td>\n",
       "      <td>Medium</td>\n",
       "      <td>Low</td>\n",
       "      <td>3.69</td>\n",
       "      <td>12.13</td>\n",
       "      <td>3.14</td>\n",
       "      <td>2</td>\n",
       "    </tr>\n",
       "    <tr>\n",
       "      <th>1</th>\n",
       "      <td>A-6</td>\n",
       "      <td>25</td>\n",
       "      <td>6247.46</td>\n",
       "      <td>25</td>\n",
       "      <td>Low</td>\n",
       "      <td>Low</td>\n",
       "      <td>Low</td>\n",
       "      <td>3.22</td>\n",
       "      <td>8.74</td>\n",
       "      <td>3.22</td>\n",
       "      <td>0</td>\n",
       "    </tr>\n",
       "    <tr>\n",
       "      <th>30</th>\n",
       "      <td>P-4</td>\n",
       "      <td>50</td>\n",
       "      <td>292544.45</td>\n",
       "      <td>29</td>\n",
       "      <td>Medium</td>\n",
       "      <td>Medium</td>\n",
       "      <td>Low</td>\n",
       "      <td>3.91</td>\n",
       "      <td>12.59</td>\n",
       "      <td>3.37</td>\n",
       "      <td>2</td>\n",
       "    </tr>\n",
       "    <tr>\n",
       "      <th>6</th>\n",
       "      <td>C-1</td>\n",
       "      <td>1058</td>\n",
       "      <td>567620.72</td>\n",
       "      <td>472</td>\n",
       "      <td>High</td>\n",
       "      <td>High</td>\n",
       "      <td>High</td>\n",
       "      <td>6.96</td>\n",
       "      <td>13.25</td>\n",
       "      <td>6.16</td>\n",
       "      <td>1</td>\n",
       "    </tr>\n",
       "    <tr>\n",
       "      <th>35</th>\n",
       "      <td>RC</td>\n",
       "      <td>255</td>\n",
       "      <td>328290.75</td>\n",
       "      <td>174</td>\n",
       "      <td>High</td>\n",
       "      <td>Medium</td>\n",
       "      <td>High</td>\n",
       "      <td>5.54</td>\n",
       "      <td>12.70</td>\n",
       "      <td>5.16</td>\n",
       "      <td>4</td>\n",
       "    </tr>\n",
       "    <tr>\n",
       "      <th>33</th>\n",
       "      <td>PD</td>\n",
       "      <td>190</td>\n",
       "      <td>404528.95</td>\n",
       "      <td>149</td>\n",
       "      <td>Medium</td>\n",
       "      <td>High</td>\n",
       "      <td>High</td>\n",
       "      <td>5.25</td>\n",
       "      <td>12.91</td>\n",
       "      <td>5.00</td>\n",
       "      <td>4</td>\n",
       "    </tr>\n",
       "    <tr>\n",
       "      <th>29</th>\n",
       "      <td>N-1</td>\n",
       "      <td>184</td>\n",
       "      <td>949375.68</td>\n",
       "      <td>132</td>\n",
       "      <td>Medium</td>\n",
       "      <td>High</td>\n",
       "      <td>Medium</td>\n",
       "      <td>5.21</td>\n",
       "      <td>13.76</td>\n",
       "      <td>4.88</td>\n",
       "      <td>4</td>\n",
       "    </tr>\n",
       "    <tr>\n",
       "      <th>10</th>\n",
       "      <td>CTS</td>\n",
       "      <td>8</td>\n",
       "      <td>23800.00</td>\n",
       "      <td>8</td>\n",
       "      <td>Low</td>\n",
       "      <td>Low</td>\n",
       "      <td>Low</td>\n",
       "      <td>2.08</td>\n",
       "      <td>10.08</td>\n",
       "      <td>2.08</td>\n",
       "      <td>0</td>\n",
       "    </tr>\n",
       "    <tr>\n",
       "      <th>41</th>\n",
       "      <td>T-6</td>\n",
       "      <td>40</td>\n",
       "      <td>101488.00</td>\n",
       "      <td>32</td>\n",
       "      <td>Low</td>\n",
       "      <td>Medium</td>\n",
       "      <td>Medium</td>\n",
       "      <td>3.69</td>\n",
       "      <td>11.53</td>\n",
       "      <td>3.47</td>\n",
       "      <td>2</td>\n",
       "    </tr>\n",
       "  </tbody>\n",
       "</table>\n",
       "</div>"
      ],
      "text/plain": [
       "   CustomerCode  frequency    mvalue  uniqueItems   f_bin   m_bin   u_bin  \\\n",
       "24          L-3         28  90756.75           14     Low  Medium     Low   \n",
       "0          A-11         40 185404.10           23     Low  Medium     Low   \n",
       "1           A-6         25   6247.46           25     Low     Low     Low   \n",
       "30          P-4         50 292544.45           29  Medium  Medium     Low   \n",
       "6           C-1       1058 567620.72          472    High    High    High   \n",
       "35           RC        255 328290.75          174    High  Medium    High   \n",
       "33           PD        190 404528.95          149  Medium    High    High   \n",
       "29          N-1        184 949375.68          132  Medium    High  Medium   \n",
       "10          CTS          8  23800.00            8     Low     Low     Low   \n",
       "41          T-6         40 101488.00           32     Low  Medium  Medium   \n",
       "\n",
       "    log_frequency  log_mvalue  log_uniqueItems  clusterid  \n",
       "24           3.33       11.42             2.64          0  \n",
       "0            3.69       12.13             3.14          2  \n",
       "1            3.22        8.74             3.22          0  \n",
       "30           3.91       12.59             3.37          2  \n",
       "6            6.96       13.25             6.16          1  \n",
       "35           5.54       12.70             5.16          4  \n",
       "33           5.25       12.91             5.00          4  \n",
       "29           5.21       13.76             4.88          4  \n",
       "10           2.08       10.08             2.08          0  \n",
       "41           3.69       11.53             3.47          2  "
      ]
     },
     "execution_count": 49,
     "metadata": {},
     "output_type": "execute_result"
    }
   ],
   "source": [
    "rfm_df.sample(10)"
   ]
  },
  {
   "cell_type": "code",
   "execution_count": 50,
   "metadata": {},
   "outputs": [
    {
     "data": {
      "text/plain": [
       "clusterid\n",
       "2    12\n",
       "4    11\n",
       "1    10\n",
       "0     7\n",
       "3     3\n",
       "5     2\n",
       "Name: count, dtype: int64"
      ]
     },
     "execution_count": 50,
     "metadata": {},
     "output_type": "execute_result"
    }
   ],
   "source": [
    "rfm_df.clusterid.value_counts()"
   ]
  },
  {
   "cell_type": "markdown",
   "metadata": {},
   "source": [
    "### Evaluating Clusters"
   ]
  },
  {
   "cell_type": "code",
   "execution_count": 51,
   "metadata": {
    "colab": {
     "base_uri": "https://localhost:8080/",
     "height": 503
    },
    "id": "56413586",
    "outputId": "4a1017c5-78ad-49eb-8808-eafb9744a25b"
   },
   "outputs": [
    {
     "data": {
      "image/png": "[encoded data removed]",
      "text/plain": [
       "<Figure size 800x550 with 1 Axes>"
      ]
     },
     "metadata": {},
     "output_type": "display_data"
    }
   ],
   "source": [
    "sn.violinplot(data = rfm_df,\n",
    "           x = 'clusterid',\n",
    "           y = 'mvalue',\n",
    "           errorbar = None);"
   ]
  },
  {
   "cell_type": "code",
   "execution_count": 52,
   "metadata": {
    "colab": {
     "base_uri": "https://localhost:8080/",
     "height": 503
    },
    "id": "d104de46",
    "outputId": "b7f31fe5-a2f0-47f5-f39e-15b665e50c78"
   },
   "outputs": [
    {
     "data": {
      "image/png": "[encoded data removed]",
      "text/plain": [
       "<Figure size 800x550 with 1 Axes>"
      ]
     },
     "metadata": {},
     "output_type": "display_data"
    }
   ],
   "source": [
    "sn.violinplot(data = rfm_df,\n",
    "           x = 'clusterid',\n",
    "           y = 'frequency',\n",
    "           errorbar = None);"
   ]
  },
  {
   "cell_type": "code",
   "execution_count": 53,
   "metadata": {
    "colab": {
     "base_uri": "https://localhost:8080/",
     "height": 503
    },
    "id": "0b04f5bd",
    "outputId": "080e3d11-c7be-45e3-9273-5b02ee674101"
   },
   "outputs": [
    {
     "data": {
      "image/png": "[encoded data removed]",
      "text/plain": [
       "<Figure size 800x550 with 1 Axes>"
      ]
     },
     "metadata": {},
     "output_type": "display_data"
    }
   ],
   "source": [
    "sn.violinplot(data = rfm_df,\n",
    "           x = 'clusterid',\n",
    "           y = 'uniqueItems',\n",
    "           errorbar = None);"
   ]
  },
  {
   "cell_type": "markdown",
   "metadata": {},
   "source": [
    "### Clusters Interpretation"
   ]
  },
  {
   "cell_type": "markdown",
   "metadata": {},
   "source": [
    "#### Checking the values of each column \n",
    "they are very sparse, we will have to scale"
   ]
  },
  {
   "cell_type": "code",
   "execution_count": 54,
   "metadata": {
    "colab": {
     "base_uri": "https://localhost:8080/",
     "height": 238
    },
    "id": "a60cb82b",
    "outputId": "06a8426a-4f29-4257-8dab-6f8343a087a5"
   },
   "outputs": [
    {
     "data": {
      "text/html": [
       "<div>\n",
       "<style scoped>\n",
       "    .dataframe tbody tr th:only-of-type {\n",
       "        vertical-align: middle;\n",
       "    }\n",
       "\n",
       "    .dataframe tbody tr th {\n",
       "        vertical-align: top;\n",
       "    }\n",
       "\n",
       "    .dataframe thead th {\n",
       "        text-align: right;\n",
       "    }\n",
       "</style>\n",
       "<table border=\"1\" class=\"dataframe\">\n",
       "  <thead>\n",
       "    <tr style=\"text-align: right;\">\n",
       "      <th></th>\n",
       "      <th>clusterid</th>\n",
       "      <th>frequency</th>\n",
       "      <th>mvalue</th>\n",
       "      <th>uniqueItems</th>\n",
       "    </tr>\n",
       "  </thead>\n",
       "  <tbody>\n",
       "    <tr>\n",
       "      <th>0</th>\n",
       "      <td>0</td>\n",
       "      <td>19.57</td>\n",
       "      <td>81810.64</td>\n",
       "      <td>13.29</td>\n",
       "    </tr>\n",
       "    <tr>\n",
       "      <th>1</th>\n",
       "      <td>1</td>\n",
       "      <td>1003.60</td>\n",
       "      <td>2528700.27</td>\n",
       "      <td>375.10</td>\n",
       "    </tr>\n",
       "    <tr>\n",
       "      <th>2</th>\n",
       "      <td>2</td>\n",
       "      <td>55.42</td>\n",
       "      <td>104114.11</td>\n",
       "      <td>46.00</td>\n",
       "    </tr>\n",
       "    <tr>\n",
       "      <th>3</th>\n",
       "      <td>3</td>\n",
       "      <td>3.67</td>\n",
       "      <td>499.28</td>\n",
       "      <td>3.67</td>\n",
       "    </tr>\n",
       "    <tr>\n",
       "      <th>4</th>\n",
       "      <td>4</td>\n",
       "      <td>207.55</td>\n",
       "      <td>386169.93</td>\n",
       "      <td>142.91</td>\n",
       "    </tr>\n",
       "    <tr>\n",
       "      <th>5</th>\n",
       "      <td>5</td>\n",
       "      <td>1.50</td>\n",
       "      <td>30517.00</td>\n",
       "      <td>1.50</td>\n",
       "    </tr>\n",
       "  </tbody>\n",
       "</table>\n",
       "</div>"
      ],
      "text/plain": [
       "   clusterid  frequency     mvalue  uniqueItems\n",
       "0          0      19.57   81810.64        13.29\n",
       "1          1    1003.60 2528700.27       375.10\n",
       "2          2      55.42  104114.11        46.00\n",
       "3          3       3.67     499.28         3.67\n",
       "4          4     207.55  386169.93       142.91\n",
       "5          5       1.50   30517.00         1.50"
      ]
     },
     "execution_count": 54,
     "metadata": {},
     "output_type": "execute_result"
    }
   ],
   "source": [
    "rfm_df_clusters = rfm_df[['frequency', \n",
    "                          'mvalue',\n",
    "                          'uniqueItems', \n",
    "                          'clusterid']].groupby(\"clusterid\").mean().reset_index()\n",
    "rfm_df_clusters"
   ]
  },
  {
   "cell_type": "markdown",
   "metadata": {
    "id": "650a1c49",
    "jp-MarkdownHeadingCollapsed": true
   },
   "source": [
    "## Segmentation Interpretation:\n",
    "\n",
    "- Cluster 0: Bulk Buyers with Low Frequency: these customers can be converted to star customers if their frequency increases , these customers buy variety of products and quantity is high.\n",
    "\n",
    "- Cluster 1: Star Customers: Buy high value items, they buy many unique items and also the frequency is high, these are frequent buyers of diverse items.\n",
    "\n",
    "- Cluster 2: Dormant Customers/ Low Engagement Customers: NO Frequency , No value and no items bought. \n",
    "\n",
    "- Cluster 3: Needs Attention: These customers buy single type of items, dont buy variety , the monetary value is low and frequency is low.\n",
    "             Marketing campaigns can be targetted to make them buy new products.\n",
    "\n",
    "- Cluster 4: Loyal customers: They buy variety and unique product, average moneitary spends , average frequency."
   ]
  },
  {
   "cell_type": "code",
   "execution_count": 55,
   "metadata": {},
   "outputs": [
    {
     "data": {
      "text/html": [
       "<div>\n",
       "<style scoped>\n",
       "    .dataframe tbody tr th:only-of-type {\n",
       "        vertical-align: middle;\n",
       "    }\n",
       "\n",
       "    .dataframe tbody tr th {\n",
       "        vertical-align: top;\n",
       "    }\n",
       "\n",
       "    .dataframe thead th {\n",
       "        text-align: right;\n",
       "    }\n",
       "</style>\n",
       "<table border=\"1\" class=\"dataframe\">\n",
       "  <thead>\n",
       "    <tr style=\"text-align: right;\">\n",
       "      <th></th>\n",
       "      <th>OrderiD</th>\n",
       "      <th>Item_Id</th>\n",
       "      <th>CustomerCode</th>\n",
       "      <th>CountryName</th>\n",
       "      <th>customer_country</th>\n",
       "      <th>QtyRequired</th>\n",
       "      <th>TotalArea</th>\n",
       "      <th>Amount</th>\n",
       "      <th>ITEM_NAME</th>\n",
       "      <th>QualityName</th>\n",
       "      <th>DesignName</th>\n",
       "      <th>ColorName</th>\n",
       "      <th>ShapeName</th>\n",
       "    </tr>\n",
       "  </thead>\n",
       "  <tbody>\n",
       "    <tr>\n",
       "      <th>0</th>\n",
       "      <td>1</td>\n",
       "      <td>5</td>\n",
       "      <td>H-1</td>\n",
       "      <td>USA</td>\n",
       "      <td>H-1USA</td>\n",
       "      <td>6</td>\n",
       "      <td>128.25</td>\n",
       "      <td>769.50</td>\n",
       "      <td>HAND TUFTED</td>\n",
       "      <td>TUFTED 30C HARD TWIST</td>\n",
       "      <td>OLD LONDON [3715]</td>\n",
       "      <td>GREEN/IVORY</td>\n",
       "      <td>REC</td>\n",
       "    </tr>\n",
       "    <tr>\n",
       "      <th>1</th>\n",
       "      <td>1</td>\n",
       "      <td>26</td>\n",
       "      <td>H-1</td>\n",
       "      <td>USA</td>\n",
       "      <td>H-1USA</td>\n",
       "      <td>6</td>\n",
       "      <td>117.00</td>\n",
       "      <td>702.00</td>\n",
       "      <td>HAND TUFTED</td>\n",
       "      <td>TUFTED 60C</td>\n",
       "      <td>DUDLEY [9012]</td>\n",
       "      <td>BEIGE</td>\n",
       "      <td>REC</td>\n",
       "    </tr>\n",
       "    <tr>\n",
       "      <th>2</th>\n",
       "      <td>1</td>\n",
       "      <td>17</td>\n",
       "      <td>H-1</td>\n",
       "      <td>USA</td>\n",
       "      <td>H-1USA</td>\n",
       "      <td>7</td>\n",
       "      <td>88.00</td>\n",
       "      <td>616.00</td>\n",
       "      <td>HAND TUFTED</td>\n",
       "      <td>TUFTED 60C</td>\n",
       "      <td>WEMBLY [CC-206]</td>\n",
       "      <td>BEIGE/SAGE</td>\n",
       "      <td>REC</td>\n",
       "    </tr>\n",
       "    <tr>\n",
       "      <th>3</th>\n",
       "      <td>1</td>\n",
       "      <td>496</td>\n",
       "      <td>H-1</td>\n",
       "      <td>USA</td>\n",
       "      <td>H-1USA</td>\n",
       "      <td>7</td>\n",
       "      <td>88.00</td>\n",
       "      <td>616.00</td>\n",
       "      <td>HAND TUFTED</td>\n",
       "      <td>TUFTED 60C</td>\n",
       "      <td>SYMPHONY [8900]</td>\n",
       "      <td>CHARCOAL</td>\n",
       "      <td>REC</td>\n",
       "    </tr>\n",
       "    <tr>\n",
       "      <th>4</th>\n",
       "      <td>1</td>\n",
       "      <td>30</td>\n",
       "      <td>H-1</td>\n",
       "      <td>USA</td>\n",
       "      <td>H-1USA</td>\n",
       "      <td>5</td>\n",
       "      <td>117.00</td>\n",
       "      <td>585.00</td>\n",
       "      <td>HAND TUFTED</td>\n",
       "      <td>TUFTED 60C</td>\n",
       "      <td>DUDLEY [9012]</td>\n",
       "      <td>NAVY/BEIGE</td>\n",
       "      <td>REC</td>\n",
       "    </tr>\n",
       "  </tbody>\n",
       "</table>\n",
       "</div>"
      ],
      "text/plain": [
       "   OrderiD  Item_Id CustomerCode CountryName customer_country  QtyRequired  \\\n",
       "0        1        5          H-1         USA           H-1USA            6   \n",
       "1        1       26          H-1         USA           H-1USA            6   \n",
       "2        1       17          H-1         USA           H-1USA            7   \n",
       "3        1      496          H-1         USA           H-1USA            7   \n",
       "4        1       30          H-1         USA           H-1USA            5   \n",
       "\n",
       "   TotalArea  Amount    ITEM_NAME            QualityName         DesignName  \\\n",
       "0     128.25  769.50  HAND TUFTED  TUFTED 30C HARD TWIST  OLD LONDON [3715]   \n",
       "1     117.00  702.00  HAND TUFTED             TUFTED 60C      DUDLEY [9012]   \n",
       "2      88.00  616.00  HAND TUFTED             TUFTED 60C    WEMBLY [CC-206]   \n",
       "3      88.00  616.00  HAND TUFTED             TUFTED 60C    SYMPHONY [8900]   \n",
       "4     117.00  585.00  HAND TUFTED             TUFTED 60C      DUDLEY [9012]   \n",
       "\n",
       "     ColorName ShapeName  \n",
       "0  GREEN/IVORY       REC  \n",
       "1        BEIGE       REC  \n",
       "2   BEIGE/SAGE       REC  \n",
       "3     CHARCOAL       REC  \n",
       "4   NAVY/BEIGE       REC  "
      ]
     },
     "execution_count": 55,
     "metadata": {},
     "output_type": "execute_result"
    }
   ],
   "source": [
    "#importing the file into the dataframe\n",
    "retail_df = pd.read_csv(\"Champo Carpets V1.csv\")\n",
    "retail_df.head(5)"
   ]
  },
  {
   "cell_type": "code",
   "execution_count": 56,
   "metadata": {},
   "outputs": [
    {
     "name": "stdout",
     "output_type": "stream",
     "text": [
      "<class 'pandas.core.frame.DataFrame'>\n",
      "RangeIndex: 13135 entries, 0 to 13134\n",
      "Data columns (total 13 columns):\n",
      " #   Column            Non-Null Count  Dtype  \n",
      "---  ------            --------------  -----  \n",
      " 0   OrderiD           13135 non-null  int64  \n",
      " 1   Item_Id           13135 non-null  int64  \n",
      " 2   CustomerCode      13135 non-null  object \n",
      " 3   CountryName       13135 non-null  object \n",
      " 4   customer_country  13135 non-null  object \n",
      " 5   QtyRequired       13135 non-null  int64  \n",
      " 6   TotalArea         13135 non-null  float64\n",
      " 7   Amount            13135 non-null  float64\n",
      " 8   ITEM_NAME         13135 non-null  object \n",
      " 9   QualityName       13135 non-null  object \n",
      " 10  DesignName        13135 non-null  object \n",
      " 11  ColorName         13135 non-null  object \n",
      " 12  ShapeName         13135 non-null  object \n",
      "dtypes: float64(2), int64(3), object(8)\n",
      "memory usage: 1.3+ MB\n"
     ]
    }
   ],
   "source": [
    "retail_df.info()"
   ]
  },
  {
   "cell_type": "code",
   "execution_count": 57,
   "metadata": {},
   "outputs": [
    {
     "data": {
      "text/plain": [
       "array(['HAND TUFTED', 'HANDWOVEN', 'DURRY', '-', 'GUN TUFTED',\n",
       "       'INDO-TIBBETAN', 'DOUBLE BACK', 'JACQUARD', 'KNOTTED', 'HANDLOOM',\n",
       "       'POWER LOOM JACQUARD', 'TABLE TUFTED'], dtype=object)"
      ]
     },
     "execution_count": 57,
     "metadata": {},
     "output_type": "execute_result"
    }
   ],
   "source": [
    "retail_df.ITEM_NAME.unique()"
   ]
  },
  {
   "cell_type": "code",
   "execution_count": 58,
   "metadata": {},
   "outputs": [
    {
     "data": {
      "text/html": [
       "<div>\n",
       "<style scoped>\n",
       "    .dataframe tbody tr th:only-of-type {\n",
       "        vertical-align: middle;\n",
       "    }\n",
       "\n",
       "    .dataframe tbody tr th {\n",
       "        vertical-align: top;\n",
       "    }\n",
       "\n",
       "    .dataframe thead th {\n",
       "        text-align: right;\n",
       "    }\n",
       "</style>\n",
       "<table border=\"1\" class=\"dataframe\">\n",
       "  <thead>\n",
       "    <tr style=\"text-align: right;\">\n",
       "      <th>ITEM_NAME</th>\n",
       "      <th>DOUBLE BACK</th>\n",
       "      <th>DURRY</th>\n",
       "      <th>GUN TUFTED</th>\n",
       "      <th>HAND TUFTED</th>\n",
       "      <th>HANDLOOM</th>\n",
       "      <th>HANDWOVEN</th>\n",
       "      <th>INDO-TIBBETAN</th>\n",
       "      <th>JACQUARD</th>\n",
       "      <th>KNOTTED</th>\n",
       "      <th>POWER LOOM JACQUARD</th>\n",
       "      <th>TABLE TUFTED</th>\n",
       "    </tr>\n",
       "    <tr>\n",
       "      <th>CustomerCode</th>\n",
       "      <th></th>\n",
       "      <th></th>\n",
       "      <th></th>\n",
       "      <th></th>\n",
       "      <th></th>\n",
       "      <th></th>\n",
       "      <th></th>\n",
       "      <th></th>\n",
       "      <th></th>\n",
       "      <th></th>\n",
       "      <th></th>\n",
       "    </tr>\n",
       "  </thead>\n",
       "  <tbody>\n",
       "    <tr>\n",
       "      <th>A-11</th>\n",
       "      <td>0</td>\n",
       "      <td>1</td>\n",
       "      <td>0</td>\n",
       "      <td>0</td>\n",
       "      <td>1</td>\n",
       "      <td>0</td>\n",
       "      <td>0</td>\n",
       "      <td>0</td>\n",
       "      <td>0</td>\n",
       "      <td>0</td>\n",
       "      <td>0</td>\n",
       "    </tr>\n",
       "    <tr>\n",
       "      <th>A-6</th>\n",
       "      <td>1</td>\n",
       "      <td>0</td>\n",
       "      <td>0</td>\n",
       "      <td>0</td>\n",
       "      <td>0</td>\n",
       "      <td>0</td>\n",
       "      <td>0</td>\n",
       "      <td>1</td>\n",
       "      <td>0</td>\n",
       "      <td>0</td>\n",
       "      <td>0</td>\n",
       "    </tr>\n",
       "    <tr>\n",
       "      <th>A-9</th>\n",
       "      <td>1</td>\n",
       "      <td>1</td>\n",
       "      <td>0</td>\n",
       "      <td>1</td>\n",
       "      <td>0</td>\n",
       "      <td>1</td>\n",
       "      <td>0</td>\n",
       "      <td>1</td>\n",
       "      <td>1</td>\n",
       "      <td>0</td>\n",
       "      <td>0</td>\n",
       "    </tr>\n",
       "    <tr>\n",
       "      <th>B-2</th>\n",
       "      <td>0</td>\n",
       "      <td>1</td>\n",
       "      <td>0</td>\n",
       "      <td>0</td>\n",
       "      <td>0</td>\n",
       "      <td>1</td>\n",
       "      <td>0</td>\n",
       "      <td>1</td>\n",
       "      <td>0</td>\n",
       "      <td>0</td>\n",
       "      <td>0</td>\n",
       "    </tr>\n",
       "    <tr>\n",
       "      <th>B-3</th>\n",
       "      <td>1</td>\n",
       "      <td>0</td>\n",
       "      <td>0</td>\n",
       "      <td>0</td>\n",
       "      <td>0</td>\n",
       "      <td>0</td>\n",
       "      <td>0</td>\n",
       "      <td>1</td>\n",
       "      <td>0</td>\n",
       "      <td>0</td>\n",
       "      <td>0</td>\n",
       "    </tr>\n",
       "    <tr>\n",
       "      <th>B-4</th>\n",
       "      <td>0</td>\n",
       "      <td>1</td>\n",
       "      <td>0</td>\n",
       "      <td>1</td>\n",
       "      <td>1</td>\n",
       "      <td>0</td>\n",
       "      <td>0</td>\n",
       "      <td>0</td>\n",
       "      <td>0</td>\n",
       "      <td>0</td>\n",
       "      <td>0</td>\n",
       "    </tr>\n",
       "    <tr>\n",
       "      <th>C-1</th>\n",
       "      <td>0</td>\n",
       "      <td>1</td>\n",
       "      <td>0</td>\n",
       "      <td>1</td>\n",
       "      <td>0</td>\n",
       "      <td>1</td>\n",
       "      <td>0</td>\n",
       "      <td>0</td>\n",
       "      <td>1</td>\n",
       "      <td>0</td>\n",
       "      <td>0</td>\n",
       "    </tr>\n",
       "    <tr>\n",
       "      <th>C-2</th>\n",
       "      <td>0</td>\n",
       "      <td>1</td>\n",
       "      <td>0</td>\n",
       "      <td>1</td>\n",
       "      <td>0</td>\n",
       "      <td>1</td>\n",
       "      <td>0</td>\n",
       "      <td>0</td>\n",
       "      <td>0</td>\n",
       "      <td>0</td>\n",
       "      <td>0</td>\n",
       "    </tr>\n",
       "    <tr>\n",
       "      <th>C-3</th>\n",
       "      <td>0</td>\n",
       "      <td>1</td>\n",
       "      <td>0</td>\n",
       "      <td>1</td>\n",
       "      <td>0</td>\n",
       "      <td>0</td>\n",
       "      <td>0</td>\n",
       "      <td>0</td>\n",
       "      <td>0</td>\n",
       "      <td>0</td>\n",
       "      <td>0</td>\n",
       "    </tr>\n",
       "    <tr>\n",
       "      <th>CC</th>\n",
       "      <td>1</td>\n",
       "      <td>1</td>\n",
       "      <td>1</td>\n",
       "      <td>1</td>\n",
       "      <td>1</td>\n",
       "      <td>0</td>\n",
       "      <td>0</td>\n",
       "      <td>0</td>\n",
       "      <td>0</td>\n",
       "      <td>0</td>\n",
       "      <td>0</td>\n",
       "    </tr>\n",
       "  </tbody>\n",
       "</table>\n",
       "</div>"
      ],
      "text/plain": [
       "ITEM_NAME     DOUBLE BACK  DURRY  GUN TUFTED  HAND TUFTED  HANDLOOM  \\\n",
       "CustomerCode                                                          \n",
       "A-11                    0      1           0            0         1   \n",
       "A-6                     1      0           0            0         0   \n",
       "A-9                     1      1           0            1         0   \n",
       "B-2                     0      1           0            0         0   \n",
       "B-3                     1      0           0            0         0   \n",
       "B-4                     0      1           0            1         1   \n",
       "C-1                     0      1           0            1         0   \n",
       "C-2                     0      1           0            1         0   \n",
       "C-3                     0      1           0            1         0   \n",
       "CC                      1      1           1            1         1   \n",
       "\n",
       "ITEM_NAME     HANDWOVEN  INDO-TIBBETAN  JACQUARD  KNOTTED  \\\n",
       "CustomerCode                                                \n",
       "A-11                  0              0         0        0   \n",
       "A-6                   0              0         1        0   \n",
       "A-9                   1              0         1        1   \n",
       "B-2                   1              0         1        0   \n",
       "B-3                   0              0         1        0   \n",
       "B-4                   0              0         0        0   \n",
       "C-1                   1              0         0        1   \n",
       "C-2                   1              0         0        0   \n",
       "C-3                   0              0         0        0   \n",
       "CC                    0              0         0        0   \n",
       "\n",
       "ITEM_NAME     POWER LOOM JACQUARD  TABLE TUFTED  \n",
       "CustomerCode                                     \n",
       "A-11                            0             0  \n",
       "A-6                             0             0  \n",
       "A-9                             0             0  \n",
       "B-2                             0             0  \n",
       "B-3                             0             0  \n",
       "B-4                             0             0  \n",
       "C-1                             0             0  \n",
       "C-2                             0             0  \n",
       "C-3                             0             0  \n",
       "CC                              0             0  "
      ]
     },
     "execution_count": 58,
     "metadata": {},
     "output_type": "execute_result"
    }
   ],
   "source": [
    "import pandas as pd\n",
    "from scipy.spatial.distance import pdist, squareform\n",
    "from scipy.cluster.hierarchy import linkage, dendrogram, fcluster\n",
    "import matplotlib.pyplot as plt\n",
    "from sklearn.cluster import AgglomerativeClustering\n",
    "\n",
    "# Assuming your dataset is in a DataFrame called `df`\n",
    "# Step 0: Drop rows where ITEM_NAME is '-'\n",
    "df_clean = retail_df[retail_df['ITEM_NAME'] != '-']\n",
    "\n",
    "# Step 1: Create a binary matrix (customers x item types)\n",
    "binary_matrix = pd.crosstab(df_clean['CustomerCode'], df_clean['ITEM_NAME'])\n",
    "# Ensure binary values (0/1 only)\n",
    "binary_matrix = (binary_matrix > 0).astype(int)\n",
    "binary_matrix[0:10]"
   ]
  },
  {
   "cell_type": "code",
   "execution_count": 60,
   "metadata": {},
   "outputs": [],
   "source": [
    "# Step 2: Create a binary (0/1) matrix: rows = CustomerCode, columns = ITEM_NAME\n",
    "binary_matrix = pd.crosstab(df_clean['CustomerCode'], df_clean['ITEM_NAME'])\n",
    "\n",
    "# Step 3: Compute Jaccard distance (1 - Jaccard similarity)\n",
    "# pdist gives a condensed distance matrix\n",
    "jaccard_dist = pdist(binary_matrix.values, metric='dice')\n",
    "\n",
    "# Convert to squareform distance matrix for AgglomerativeClustering\n",
    "jaccard_dist_square = squareform(jaccard_dist)\n",
    "\n",
    "# Step 4: Agglomerative Clustering with precomputed distance\n",
    "n_clusters = 5  # you can choose based on dendrogram or silhouette\n",
    "model = AgglomerativeClustering(\n",
    "    affinity='precomputed',\n",
    "    linkage='complete',  # recommended with Jaccard\n",
    "    n_clusters=4\n",
    ")\n",
    "\n",
    "labels = model.fit_predict(jaccard_dist_square)\n",
    "\n",
    "# Step 5: Attach cluster labels back to customers\n",
    "customer_clusters = pd.DataFrame({\n",
    "    'CustomerCode': binary_matrix.index,\n",
    "    'Cluster': labels\n",
    "})"
   ]
  },
  {
   "cell_type": "code",
   "execution_count": 61,
   "metadata": {},
   "outputs": [
    {
     "data": {
      "text/plain": [
       "Cluster\n",
       "0    23\n",
       "3    10\n",
       "1     7\n",
       "2     5\n",
       "Name: count, dtype: int64"
      ]
     },
     "execution_count": 61,
     "metadata": {},
     "output_type": "execute_result"
    }
   ],
   "source": [
    "customer_clusters.Cluster.value_counts()"
   ]
  },
  {
   "cell_type": "code",
   "execution_count": 62,
   "metadata": {},
   "outputs": [
    {
     "name": "stdout",
     "output_type": "stream",
     "text": [
      "\n",
      "Top items for Cluster 0:\n",
      "HAND TUFTED            23\n",
      "DURRY                  18\n",
      "HANDWOVEN              15\n",
      "DOUBLE BACK            10\n",
      "JACQUARD               10\n",
      "HANDLOOM                7\n",
      "KNOTTED                 7\n",
      "GUN TUFTED              4\n",
      "INDO-TIBBETAN           1\n",
      "POWER LOOM JACQUARD     1\n",
      "TABLE TUFTED            1\n",
      "Name: 0, dtype: int64\n",
      "\n",
      "Top items for Cluster 1:\n",
      "DOUBLE BACK    7\n",
      "JACQUARD       4\n",
      "HAND TUFTED    3\n",
      "DURRY          1\n",
      "HANDWOVEN      1\n",
      "KNOTTED        1\n",
      "Name: 1, dtype: int64\n",
      "\n",
      "Top items for Cluster 2:\n",
      "HANDWOVEN        5\n",
      "DURRY            4\n",
      "JACQUARD         4\n",
      "KNOTTED          3\n",
      "DOUBLE BACK      2\n",
      "HAND TUFTED      1\n",
      "HANDLOOM         1\n",
      "INDO-TIBBETAN    1\n",
      "Name: 2, dtype: int64\n",
      "\n",
      "Top items for Cluster 3:\n",
      "DURRY          10\n",
      "HANDLOOM        3\n",
      "HAND TUFTED     2\n",
      "KNOTTED         2\n",
      "Name: 3, dtype: int64\n"
     ]
    }
   ],
   "source": [
    "# Step 1: Merge clusters with item purchase binary matrix\n",
    "merged = customer_clusters.set_index('CustomerCode').join((binary_matrix > 0).astype(int))\n",
    "\n",
    "# Step 2: Group by Cluster and compute average purchase (proportion of customers buying each item)\n",
    "cluster_item_stats = merged.groupby('Cluster').sum()\n",
    "\n",
    "# Step 3: For each cluster, sort items by popularity\n",
    "for cluster_id in cluster_item_stats.index:\n",
    "    print(f\"\\nTop items for Cluster {cluster_id}:\")\n",
    "    top_items = cluster_item_stats.loc[cluster_id].sort_values(ascending=False)\n",
    "    print(top_items[top_items > 0])  # optional filter to skip items with 0 frequency"
   ]
  },
  {
   "cell_type": "code",
   "execution_count": null,
   "metadata": {},
   "outputs": [],
   "source": []
  },
  {
   "cell_type": "code",
   "execution_count": null,
   "metadata": {},
   "outputs": [],
   "source": []
  }
 ],
 "metadata": {
  "anaconda-cloud": {},
  "kernelspec": {
   "display_name": "Python 3 (ipykernel)",
   "language": "python",
   "name": "python3"
  },
  "language_info": {
   "codemirror_mode": {
    "name": "ipython",
    "version": 3
   },
   "file_extension": ".py",
   "mimetype": "text/x-python",
   "name": "python",
   "nbconvert_exporter": "python",
   "pygments_lexer": "ipython3",
   "version": "3.10.9"
  }
 },
 "nbformat": 4,
 "nbformat_minor": 4
}
